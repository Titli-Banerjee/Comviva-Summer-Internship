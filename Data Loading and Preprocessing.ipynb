{
 "cells": [
  {
   "cell_type": "markdown",
   "metadata": {},
   "source": [
    "## Import required libraries\n",
    "\n",
    "In this section we import the libraries like numpy and pandas, that are necessary to work with the data. We are also going to perform some exploratory data analysis using plots. So we have imported the python visualization libraries like matplotlib and seaborn."
   ]
  },
  {
   "cell_type": "code",
   "execution_count": 1,
   "metadata": {},
   "outputs": [],
   "source": [
    "# Data libraries\n",
    "import pandas as pd\n",
    "import numpy as np\n",
    "import gzip\n",
    "import json\n",
    "import textwrap\n",
    "\n",
    "from bs4 import BeautifulSoup\n",
    "from html import unescape\n",
    "\n",
    "# Set the max column width of the pandas dataframe to 100\n",
    "pd.options.display.max_colwidth = 100\n",
    "\n",
    "# Visualization libraries\n",
    "import matplotlib.pyplot as plt\n",
    "import seaborn as sns\n",
    "sns.set_palette(\"pastel\")\n",
    "sns.set_style(\"white\")\n",
    "sns.set_context(\"paper\", font_scale=1.35)\n",
    "%matplotlib inline"
   ]
  },
  {
   "cell_type": "markdown",
   "metadata": {},
   "source": [
    "## Load the dataset\n",
    "\n",
    "In this section, we will load the data into python pandas dataframe. \n",
    "\n",
    "We are using the Amazon Reviews Dataset for our project. The data set can be downloaded from the UCSD website (http://deepyeti.ucsd.edu/jianmo/amazon/index.html). This dataset contains product reviews and metadata from Amazon, including 233.1 million reviews spanning May 1996 – Oct 2018. The dataset includes reviews (ratings, text, helpfulness votes), product metadata (descriptions, category information, price, brand, and image features), and links (also viewed/also bought graphs).\n",
    "\n",
    "Because of the vast size of the data, we will be working with a subset of it, including only <b>Luxury Beauty</b> category of products."
   ]
  },
  {
   "cell_type": "code",
   "execution_count": 2,
   "metadata": {},
   "outputs": [],
   "source": [
    "# Function to extract the json from zip file\n",
    "def parse(path):\n",
    "  g = gzip.open(path, 'rb')\n",
    "  for l in g:\n",
    "    yield json.loads(l)"
   ]
  },
  {
   "cell_type": "code",
   "execution_count": 3,
   "metadata": {},
   "outputs": [],
   "source": [
    "# Function to read the json into a pandas dataframe\n",
    "def getDF(path):\n",
    "  i = 0\n",
    "  df = {}\n",
    "  for d in parse(path):\n",
    "    df[i] = d\n",
    "    i += 1\n",
    "  return pd.DataFrame.from_dict(df, orient='index')"
   ]
  },
  {
   "cell_type": "code",
   "execution_count": 4,
   "metadata": {},
   "outputs": [],
   "source": [
    "reviews_df_original = getDF('Luxury_Beauty.json.gz')\n",
    "meta_df_original = getDF('meta_Luxury_Beauty.json.gz')"
   ]
  },
  {
   "cell_type": "markdown",
   "metadata": {},
   "source": [
    "## Data pre-processing and cleaning"
   ]
  },
  {
   "cell_type": "code",
   "execution_count": 5,
   "metadata": {},
   "outputs": [
    {
     "data": {
      "text/html": [
       "<div>\n",
       "<style scoped>\n",
       "    .dataframe tbody tr th:only-of-type {\n",
       "        vertical-align: middle;\n",
       "    }\n",
       "\n",
       "    .dataframe tbody tr th {\n",
       "        vertical-align: top;\n",
       "    }\n",
       "\n",
       "    .dataframe thead th {\n",
       "        text-align: right;\n",
       "    }\n",
       "</style>\n",
       "<table border=\"1\" class=\"dataframe\">\n",
       "  <thead>\n",
       "    <tr style=\"text-align: right;\">\n",
       "      <th></th>\n",
       "      <th>overall</th>\n",
       "      <th>vote</th>\n",
       "      <th>verified</th>\n",
       "      <th>reviewTime</th>\n",
       "      <th>reviewerID</th>\n",
       "      <th>asin</th>\n",
       "      <th>reviewerName</th>\n",
       "      <th>reviewText</th>\n",
       "      <th>summary</th>\n",
       "      <th>unixReviewTime</th>\n",
       "      <th>style</th>\n",
       "      <th>image</th>\n",
       "    </tr>\n",
       "  </thead>\n",
       "  <tbody>\n",
       "    <tr>\n",
       "      <th>0</th>\n",
       "      <td>2.0</td>\n",
       "      <td>3</td>\n",
       "      <td>True</td>\n",
       "      <td>06 15, 2010</td>\n",
       "      <td>A1Q6MUU0B2ZDQG</td>\n",
       "      <td>B00004U9V2</td>\n",
       "      <td>D. Poston</td>\n",
       "      <td>I bought two of these 8.5 fl oz hand cream, and neither of the dispensers work.  The hand cream ...</td>\n",
       "      <td>dispensers don't work</td>\n",
       "      <td>1276560000</td>\n",
       "      <td>NaN</td>\n",
       "      <td>NaN</td>\n",
       "    </tr>\n",
       "    <tr>\n",
       "      <th>1</th>\n",
       "      <td>5.0</td>\n",
       "      <td>14</td>\n",
       "      <td>True</td>\n",
       "      <td>01 7, 2010</td>\n",
       "      <td>A3HO2SQDCZIE9S</td>\n",
       "      <td>B00004U9V2</td>\n",
       "      <td>chandra</td>\n",
       "      <td>Believe me, over the years I have tried many, many different hand creams. I am one of those peop...</td>\n",
       "      <td>Best hand cream ever.</td>\n",
       "      <td>1262822400</td>\n",
       "      <td>NaN</td>\n",
       "      <td>NaN</td>\n",
       "    </tr>\n",
       "    <tr>\n",
       "      <th>2</th>\n",
       "      <td>5.0</td>\n",
       "      <td>NaN</td>\n",
       "      <td>True</td>\n",
       "      <td>04 18, 2018</td>\n",
       "      <td>A2EM03F99X3RJZ</td>\n",
       "      <td>B00004U9V2</td>\n",
       "      <td>Maureen G</td>\n",
       "      <td>Great hand lotion</td>\n",
       "      <td>Five Stars</td>\n",
       "      <td>1524009600</td>\n",
       "      <td>{'Size:': ' 3.5 oz.'}</td>\n",
       "      <td>NaN</td>\n",
       "    </tr>\n",
       "    <tr>\n",
       "      <th>3</th>\n",
       "      <td>5.0</td>\n",
       "      <td>NaN</td>\n",
       "      <td>True</td>\n",
       "      <td>04 18, 2018</td>\n",
       "      <td>A3Z74TDRGD0HU</td>\n",
       "      <td>B00004U9V2</td>\n",
       "      <td>Terry K</td>\n",
       "      <td>This is the best for the severely dry skin on my hands</td>\n",
       "      <td>Five Stars</td>\n",
       "      <td>1524009600</td>\n",
       "      <td>{'Size:': ' 3.5 oz.'}</td>\n",
       "      <td>NaN</td>\n",
       "    </tr>\n",
       "    <tr>\n",
       "      <th>4</th>\n",
       "      <td>5.0</td>\n",
       "      <td>NaN</td>\n",
       "      <td>True</td>\n",
       "      <td>04 17, 2018</td>\n",
       "      <td>A2UXFNW9RTL4VM</td>\n",
       "      <td>B00004U9V2</td>\n",
       "      <td>Patricia Wood</td>\n",
       "      <td>The best non- oily hand cream ever. It heals overnight.</td>\n",
       "      <td>I always have a backup ready.</td>\n",
       "      <td>1523923200</td>\n",
       "      <td>{'Size:': ' 3.5 oz.'}</td>\n",
       "      <td>NaN</td>\n",
       "    </tr>\n",
       "  </tbody>\n",
       "</table>\n",
       "</div>"
      ],
      "text/plain": [
       "   overall vote  verified   reviewTime      reviewerID        asin  \\\n",
       "0      2.0    3      True  06 15, 2010  A1Q6MUU0B2ZDQG  B00004U9V2   \n",
       "1      5.0   14      True   01 7, 2010  A3HO2SQDCZIE9S  B00004U9V2   \n",
       "2      5.0  NaN      True  04 18, 2018  A2EM03F99X3RJZ  B00004U9V2   \n",
       "3      5.0  NaN      True  04 18, 2018   A3Z74TDRGD0HU  B00004U9V2   \n",
       "4      5.0  NaN      True  04 17, 2018  A2UXFNW9RTL4VM  B00004U9V2   \n",
       "\n",
       "    reviewerName  \\\n",
       "0      D. Poston   \n",
       "1        chandra   \n",
       "2      Maureen G   \n",
       "3        Terry K   \n",
       "4  Patricia Wood   \n",
       "\n",
       "                                                                                            reviewText  \\\n",
       "0  I bought two of these 8.5 fl oz hand cream, and neither of the dispensers work.  The hand cream ...   \n",
       "1  Believe me, over the years I have tried many, many different hand creams. I am one of those peop...   \n",
       "2                                                                                    Great hand lotion   \n",
       "3                                               This is the best for the severely dry skin on my hands   \n",
       "4                                              The best non- oily hand cream ever. It heals overnight.   \n",
       "\n",
       "                         summary  unixReviewTime                  style image  \n",
       "0          dispensers don't work      1276560000                    NaN   NaN  \n",
       "1          Best hand cream ever.      1262822400                    NaN   NaN  \n",
       "2                     Five Stars      1524009600  {'Size:': ' 3.5 oz.'}   NaN  \n",
       "3                     Five Stars      1524009600  {'Size:': ' 3.5 oz.'}   NaN  \n",
       "4  I always have a backup ready.      1523923200  {'Size:': ' 3.5 oz.'}   NaN  "
      ]
     },
     "execution_count": 5,
     "metadata": {},
     "output_type": "execute_result"
    }
   ],
   "source": [
    "# Let us look at the head of reviews_df_original\n",
    "reviews_df_original.head()"
   ]
  },
  {
   "cell_type": "code",
   "execution_count": 6,
   "metadata": {},
   "outputs": [
    {
     "name": "stdout",
     "output_type": "stream",
     "text": [
      "Number of rows in the reviews_df_original dataframe :  574628\n",
      "Number of columns in the reviews_df_original dataframe : 12\n"
     ]
    }
   ],
   "source": [
    "# Let us see how many rows and columns are there in the reviews_df_original dataframe\n",
    "rows, columns = reviews_df_original.shape\n",
    "\n",
    "print(\"Number of rows in the reviews_df_original dataframe : \", rows)\n",
    "print(\"Number of columns in the reviews_df_original dataframe :\", columns)"
   ]
  },
  {
   "cell_type": "code",
   "execution_count": 7,
   "metadata": {},
   "outputs": [
    {
     "data": {
      "text/html": [
       "<div>\n",
       "<style scoped>\n",
       "    .dataframe tbody tr th:only-of-type {\n",
       "        vertical-align: middle;\n",
       "    }\n",
       "\n",
       "    .dataframe tbody tr th {\n",
       "        vertical-align: top;\n",
       "    }\n",
       "\n",
       "    .dataframe thead th {\n",
       "        text-align: right;\n",
       "    }\n",
       "</style>\n",
       "<table border=\"1\" class=\"dataframe\">\n",
       "  <thead>\n",
       "    <tr style=\"text-align: right;\">\n",
       "      <th></th>\n",
       "      <th>category</th>\n",
       "      <th>tech1</th>\n",
       "      <th>description</th>\n",
       "      <th>fit</th>\n",
       "      <th>title</th>\n",
       "      <th>also_buy</th>\n",
       "      <th>tech2</th>\n",
       "      <th>brand</th>\n",
       "      <th>feature</th>\n",
       "      <th>rank</th>\n",
       "      <th>also_view</th>\n",
       "      <th>details</th>\n",
       "      <th>main_cat</th>\n",
       "      <th>similar_item</th>\n",
       "      <th>date</th>\n",
       "      <th>price</th>\n",
       "      <th>asin</th>\n",
       "      <th>imageURL</th>\n",
       "      <th>imageURLHighRes</th>\n",
       "    </tr>\n",
       "  </thead>\n",
       "  <tbody>\n",
       "    <tr>\n",
       "      <th>0</th>\n",
       "      <td>[]</td>\n",
       "      <td></td>\n",
       "      <td>[After a long day of handling thorny situations, our new hand therapy pump is just the help you ...</td>\n",
       "      <td></td>\n",
       "      <td>Crabtree &amp;amp; Evelyn - Gardener's Ultra-Moisturising Hand Therapy Pump - 250g/8.8 OZ</td>\n",
       "      <td>[B00GHX7H0A, B00FRERO7G, B00R68QXCS, B000Z65AZE, B07GFHJRMX, B074KGBGL7, B00R68QXJG, B00025WYZC,...</td>\n",
       "      <td></td>\n",
       "      <td></td>\n",
       "      <td>[]</td>\n",
       "      <td>4,324 in Beauty &amp; Personal Care (</td>\n",
       "      <td>[B00FRERO7G, B00GHX7H0A, B07GFHJRMX, B00TJ3NBN2, B00KOBT82G, B00R68QXCS, B074KGBGL7, B075MH4Q9L,...</td>\n",
       "      <td>{'\n",
       "    Product Dimensions: \n",
       "    ': '2.2 x 2.2 x 7 inches ; 8.8 ounces', 'Shipping Weight:': '14....</td>\n",
       "      <td>Luxury Beauty</td>\n",
       "      <td></td>\n",
       "      <td></td>\n",
       "      <td>$30.00</td>\n",
       "      <td>B00004U9V2</td>\n",
       "      <td>[https://images-na.ssl-images-amazon.com/images/I/41ClX6BRvZL._SX50_SY65_CR,0,0,50,65_.jpg, http...</td>\n",
       "      <td>[https://images-na.ssl-images-amazon.com/images/I/41ClX6BRvZL.jpg, https://images-na.ssl-images-...</td>\n",
       "    </tr>\n",
       "    <tr>\n",
       "      <th>1</th>\n",
       "      <td>[]</td>\n",
       "      <td></td>\n",
       "      <td>[If you haven't experienced the pleasures of bathing in the Dead Sea, Bath Crystals are the next...</td>\n",
       "      <td></td>\n",
       "      <td>AHAVA Bath Salts</td>\n",
       "      <td>[]</td>\n",
       "      <td></td>\n",
       "      <td></td>\n",
       "      <td>[]</td>\n",
       "      <td>1,633,549 in Beauty &amp; Personal Care (</td>\n",
       "      <td>[]</td>\n",
       "      <td>{'\n",
       "    Product Dimensions: \n",
       "    ': '3 x 3.5 x 6 inches ; 2.2 pounds', 'Shipping Weight:': '2.6 p...</td>\n",
       "      <td>Luxury Beauty</td>\n",
       "      <td></td>\n",
       "      <td></td>\n",
       "      <td></td>\n",
       "      <td>B0000531EN</td>\n",
       "      <td>[]</td>\n",
       "      <td>[]</td>\n",
       "    </tr>\n",
       "    <tr>\n",
       "      <th>2</th>\n",
       "      <td>[]</td>\n",
       "      <td></td>\n",
       "      <td>[Rich, black mineral mud, harvested from the banks of the Dead Sea, is comprised of layer upon l...</td>\n",
       "      <td></td>\n",
       "      <td>AHAVA Dead Sea Mineral Mud, 8.5 oz, Pack of 4</td>\n",
       "      <td>[]</td>\n",
       "      <td></td>\n",
       "      <td></td>\n",
       "      <td>[]</td>\n",
       "      <td>1,806,710 in Beauty &amp;amp; Personal Care (</td>\n",
       "      <td>[]</td>\n",
       "      <td>{'\n",
       "    Product Dimensions: \n",
       "    ': '5.1 x 3 x 5.5 inches ; 2.48 pounds', 'Shipping Weight:': '2....</td>\n",
       "      <td>Luxury Beauty</td>\n",
       "      <td></td>\n",
       "      <td></td>\n",
       "      <td></td>\n",
       "      <td>B0000532JH</td>\n",
       "      <td>[https://images-na.ssl-images-amazon.com/images/I/41O1luEZuHL._SX50_SY65_CR,0,0,50,65_.jpg]</td>\n",
       "      <td>[https://images-na.ssl-images-amazon.com/images/I/41O1luEZuHL.jpg]</td>\n",
       "    </tr>\n",
       "    <tr>\n",
       "      <th>3</th>\n",
       "      <td>[]</td>\n",
       "      <td></td>\n",
       "      <td>[This liquid soap with convenient pump dispenser is formulated with conditioning extracts of sag...</td>\n",
       "      <td></td>\n",
       "      <td>Crabtree &amp;amp; Evelyn Hand Soap, Gardeners, 10.1 fl. oz.</td>\n",
       "      <td>[]</td>\n",
       "      <td></td>\n",
       "      <td></td>\n",
       "      <td>[]</td>\n",
       "      <td>[]</td>\n",
       "      <td>[B00004U9V2, B00GHX7H0A, B00FRERO7G, B00R68QXCS, B00KOBT82G, B071G8FG2N, B07FYFXBK8, B00TJ3NBN2,...</td>\n",
       "      <td>{'\n",
       "    Product Dimensions: \n",
       "    ': '2.6 x 2.6 x 6.7 inches ; 1.5 pounds', 'Shipping Weight:': '1...</td>\n",
       "      <td>Luxury Beauty</td>\n",
       "      <td></td>\n",
       "      <td></td>\n",
       "      <td>$15.99</td>\n",
       "      <td>B00005A77F</td>\n",
       "      <td>[https://images-na.ssl-images-amazon.com/images/I/31BBeRbXZsL._SX50_SY65_CR,0,0,50,65_.jpg, http...</td>\n",
       "      <td>[https://images-na.ssl-images-amazon.com/images/I/31BBeRbXZsL.jpg, https://images-na.ssl-images-...</td>\n",
       "    </tr>\n",
       "    <tr>\n",
       "      <th>4</th>\n",
       "      <td>[]</td>\n",
       "      <td></td>\n",
       "      <td>[Remember why you love your favorite blanket? The soft, comforting feeling of wrapping it around...</td>\n",
       "      <td></td>\n",
       "      <td>Soy Milk Hand Crme</td>\n",
       "      <td>[B000NZT6KM, B001BY229Q, B008J724QY, B0009YGKJ2, B001JB55SQ, B000M3OR7C, B00J0A3ZCQ, B00SKBJ4L2,...</td>\n",
       "      <td></td>\n",
       "      <td></td>\n",
       "      <td>[]</td>\n",
       "      <td>42,464 in Beauty &amp;amp; Personal Care (</td>\n",
       "      <td>[]</td>\n",
       "      <td>{'\n",
       "    Product Dimensions: \n",
       "    ': '7.2 x 2.2 x 7.2 inches ; 4 ounces', 'Shipping Weight:': '7.2...</td>\n",
       "      <td>Luxury Beauty</td>\n",
       "      <td></td>\n",
       "      <td></td>\n",
       "      <td>$18.00</td>\n",
       "      <td>B00005NDTD</td>\n",
       "      <td>[https://images-na.ssl-images-amazon.com/images/I/31agMAVCHtL._SX50_SY65_CR,0,0,50,65_.jpg, http...</td>\n",
       "      <td>[https://images-na.ssl-images-amazon.com/images/I/31agMAVCHtL.jpg, https://images-na.ssl-images-...</td>\n",
       "    </tr>\n",
       "  </tbody>\n",
       "</table>\n",
       "</div>"
      ],
      "text/plain": [
       "  category tech1  \\\n",
       "0       []         \n",
       "1       []         \n",
       "2       []         \n",
       "3       []         \n",
       "4       []         \n",
       "\n",
       "                                                                                           description  \\\n",
       "0  [After a long day of handling thorny situations, our new hand therapy pump is just the help you ...   \n",
       "1  [If you haven't experienced the pleasures of bathing in the Dead Sea, Bath Crystals are the next...   \n",
       "2  [Rich, black mineral mud, harvested from the banks of the Dead Sea, is comprised of layer upon l...   \n",
       "3  [This liquid soap with convenient pump dispenser is formulated with conditioning extracts of sag...   \n",
       "4  [Remember why you love your favorite blanket? The soft, comforting feeling of wrapping it around...   \n",
       "\n",
       "  fit  \\\n",
       "0       \n",
       "1       \n",
       "2       \n",
       "3       \n",
       "4       \n",
       "\n",
       "                                                                                   title  \\\n",
       "0  Crabtree &amp; Evelyn - Gardener's Ultra-Moisturising Hand Therapy Pump - 250g/8.8 OZ   \n",
       "1                                                                       AHAVA Bath Salts   \n",
       "2                                          AHAVA Dead Sea Mineral Mud, 8.5 oz, Pack of 4   \n",
       "3                               Crabtree &amp; Evelyn Hand Soap, Gardeners, 10.1 fl. oz.   \n",
       "4                                                                     Soy Milk Hand Crme   \n",
       "\n",
       "                                                                                              also_buy  \\\n",
       "0  [B00GHX7H0A, B00FRERO7G, B00R68QXCS, B000Z65AZE, B07GFHJRMX, B074KGBGL7, B00R68QXJG, B00025WYZC,...   \n",
       "1                                                                                                   []   \n",
       "2                                                                                                   []   \n",
       "3                                                                                                   []   \n",
       "4  [B000NZT6KM, B001BY229Q, B008J724QY, B0009YGKJ2, B001JB55SQ, B000M3OR7C, B00J0A3ZCQ, B00SKBJ4L2,...   \n",
       "\n",
       "  tech2 brand feature                                       rank  \\\n",
       "0                  []          4,324 in Beauty & Personal Care (   \n",
       "1                  []      1,633,549 in Beauty & Personal Care (   \n",
       "2                  []  1,806,710 in Beauty &amp; Personal Care (   \n",
       "3                  []                                         []   \n",
       "4                  []     42,464 in Beauty &amp; Personal Care (   \n",
       "\n",
       "                                                                                             also_view  \\\n",
       "0  [B00FRERO7G, B00GHX7H0A, B07GFHJRMX, B00TJ3NBN2, B00KOBT82G, B00R68QXCS, B074KGBGL7, B075MH4Q9L,...   \n",
       "1                                                                                                   []   \n",
       "2                                                                                                   []   \n",
       "3  [B00004U9V2, B00GHX7H0A, B00FRERO7G, B00R68QXCS, B00KOBT82G, B071G8FG2N, B07FYFXBK8, B00TJ3NBN2,...   \n",
       "4                                                                                                   []   \n",
       "\n",
       "                                                                                               details  \\\n",
       "0  {'\n",
       "    Product Dimensions: \n",
       "    ': '2.2 x 2.2 x 7 inches ; 8.8 ounces', 'Shipping Weight:': '14....   \n",
       "1  {'\n",
       "    Product Dimensions: \n",
       "    ': '3 x 3.5 x 6 inches ; 2.2 pounds', 'Shipping Weight:': '2.6 p...   \n",
       "2  {'\n",
       "    Product Dimensions: \n",
       "    ': '5.1 x 3 x 5.5 inches ; 2.48 pounds', 'Shipping Weight:': '2....   \n",
       "3  {'\n",
       "    Product Dimensions: \n",
       "    ': '2.6 x 2.6 x 6.7 inches ; 1.5 pounds', 'Shipping Weight:': '1...   \n",
       "4  {'\n",
       "    Product Dimensions: \n",
       "    ': '7.2 x 2.2 x 7.2 inches ; 4 ounces', 'Shipping Weight:': '7.2...   \n",
       "\n",
       "        main_cat similar_item date   price        asin  \\\n",
       "0  Luxury Beauty                    $30.00  B00004U9V2   \n",
       "1  Luxury Beauty                            B0000531EN   \n",
       "2  Luxury Beauty                            B0000532JH   \n",
       "3  Luxury Beauty                    $15.99  B00005A77F   \n",
       "4  Luxury Beauty                    $18.00  B00005NDTD   \n",
       "\n",
       "                                                                                              imageURL  \\\n",
       "0  [https://images-na.ssl-images-amazon.com/images/I/41ClX6BRvZL._SX50_SY65_CR,0,0,50,65_.jpg, http...   \n",
       "1                                                                                                   []   \n",
       "2          [https://images-na.ssl-images-amazon.com/images/I/41O1luEZuHL._SX50_SY65_CR,0,0,50,65_.jpg]   \n",
       "3  [https://images-na.ssl-images-amazon.com/images/I/31BBeRbXZsL._SX50_SY65_CR,0,0,50,65_.jpg, http...   \n",
       "4  [https://images-na.ssl-images-amazon.com/images/I/31agMAVCHtL._SX50_SY65_CR,0,0,50,65_.jpg, http...   \n",
       "\n",
       "                                                                                       imageURLHighRes  \n",
       "0  [https://images-na.ssl-images-amazon.com/images/I/41ClX6BRvZL.jpg, https://images-na.ssl-images-...  \n",
       "1                                                                                                   []  \n",
       "2                                   [https://images-na.ssl-images-amazon.com/images/I/41O1luEZuHL.jpg]  \n",
       "3  [https://images-na.ssl-images-amazon.com/images/I/31BBeRbXZsL.jpg, https://images-na.ssl-images-...  \n",
       "4  [https://images-na.ssl-images-amazon.com/images/I/31agMAVCHtL.jpg, https://images-na.ssl-images-...  "
      ]
     },
     "execution_count": 7,
     "metadata": {},
     "output_type": "execute_result"
    }
   ],
   "source": [
    "# Now let us look at the head of meta_df_original dataframe\n",
    "meta_df_original.head()"
   ]
  },
  {
   "cell_type": "code",
   "execution_count": 8,
   "metadata": {},
   "outputs": [
    {
     "name": "stdout",
     "output_type": "stream",
     "text": [
      "Number of rows in the meta_df_original dataframe :  12299\n",
      "Number of columns in the meta_df_original dataframe : 19\n"
     ]
    }
   ],
   "source": [
    "# Let us see how many rows and columns are there in the meta_df_original dataframe\n",
    "rows, columns = meta_df_original.shape\n",
    "\n",
    "print(\"Number of rows in the meta_df_original dataframe : \", rows)\n",
    "print(\"Number of columns in the meta_df_original dataframe :\", columns)"
   ]
  },
  {
   "cell_type": "code",
   "execution_count": 9,
   "metadata": {},
   "outputs": [
    {
     "data": {
      "text/plain": [
       "416174"
      ]
     },
     "execution_count": 9,
     "metadata": {},
     "output_type": "execute_result"
    }
   ],
   "source": [
    "# Let us check the number of uniques users who have reviewed the products\n",
    "reviews_df_original['reviewerID'].nunique()"
   ]
  },
  {
   "cell_type": "code",
   "execution_count": 10,
   "metadata": {},
   "outputs": [
    {
     "data": {
      "text/plain": [
       "12111"
      ]
     },
     "execution_count": 10,
     "metadata": {},
     "output_type": "execute_result"
    }
   ],
   "source": [
    "# Number of unique products\n",
    "meta_df_original['asin'].nunique()"
   ]
  },
  {
   "cell_type": "code",
   "execution_count": 11,
   "metadata": {},
   "outputs": [
    {
     "data": {
      "text/plain": [
       "9"
      ]
     },
     "execution_count": 11,
     "metadata": {},
     "output_type": "execute_result"
    }
   ],
   "source": [
    "# We have found 9 asin ids in reviews_df_original that are not present in the meta_df_original dataframe. \n",
    "# So we will drop all the rows in reviews_df_original that are corresponding to these 9 asin ids.\n",
    "# This is necessary because we are later on going to do a inner merge on the itemId (asin) column\n",
    "\n",
    "reviews_df_original[~reviews_df_original['asin'].isin(meta_df_original['asin'])]['asin'].nunique()"
   ]
  },
  {
   "cell_type": "code",
   "execution_count": 12,
   "metadata": {},
   "outputs": [],
   "source": [
    "# Drop the 290 rows in reviews_df_original that are corresponding to the 9 asin ids that are not present in meta_df_original.\n",
    "\n",
    "reviews_df_original.drop(reviews_df_original[~reviews_df_original['asin'].isin(meta_df_original['asin'])].index, inplace=True)"
   ]
  },
  {
   "cell_type": "code",
   "execution_count": 13,
   "metadata": {},
   "outputs": [
    {
     "data": {
      "text/plain": [
       "(574338, 12)"
      ]
     },
     "execution_count": 13,
     "metadata": {},
     "output_type": "execute_result"
    }
   ],
   "source": [
    "# Now the new shape of the reviews_df_original dataframe is as below\n",
    "\n",
    "reviews_df_original.shape"
   ]
  },
  {
   "cell_type": "code",
   "execution_count": 14,
   "metadata": {},
   "outputs": [
    {
     "data": {
      "text/plain": [
       "188"
      ]
     },
     "execution_count": 14,
     "metadata": {},
     "output_type": "execute_result"
    }
   ],
   "source": [
    "# There are 188 duplicate products in the meta_df_original dataframe\n",
    "\n",
    "meta_df_original['asin'].duplicated().sum()"
   ]
  },
  {
   "cell_type": "code",
   "execution_count": 15,
   "metadata": {},
   "outputs": [],
   "source": [
    "# Remove the duplicate entries from the meta_df_original dataframe\n",
    "\n",
    "meta_df_original.drop_duplicates(subset=['asin'], inplace=True)"
   ]
  },
  {
   "cell_type": "code",
   "execution_count": 16,
   "metadata": {},
   "outputs": [
    {
     "data": {
      "text/plain": [
       "(12111, 19)"
      ]
     },
     "execution_count": 16,
     "metadata": {},
     "output_type": "execute_result"
    }
   ],
   "source": [
    "# Now the new shape of the meta_df_original is as below\n",
    "\n",
    "meta_df_original.shape"
   ]
  },
  {
   "cell_type": "code",
   "execution_count": 17,
   "metadata": {},
   "outputs": [],
   "source": [
    "# Now let us merge the two dataframes reviews_df_original and meta_df_original into one dataframe \n",
    "# The merging will be done based on the column asin which is actually the unique itemid for each product \n",
    "\n",
    "df_merged = pd.merge(reviews_df_original, meta_df_original, how=\"inner\", on =\"asin\")"
   ]
  },
  {
   "cell_type": "code",
   "execution_count": 18,
   "metadata": {},
   "outputs": [
    {
     "data": {
      "text/plain": [
       "(574338, 30)"
      ]
     },
     "execution_count": 18,
     "metadata": {},
     "output_type": "execute_result"
    }
   ],
   "source": [
    "# Let us check the shape of the df_merged\n",
    "\n",
    "df_merged.shape"
   ]
  },
  {
   "cell_type": "code",
   "execution_count": 19,
   "metadata": {},
   "outputs": [
    {
     "data": {
      "text/html": [
       "<div>\n",
       "<style scoped>\n",
       "    .dataframe tbody tr th:only-of-type {\n",
       "        vertical-align: middle;\n",
       "    }\n",
       "\n",
       "    .dataframe tbody tr th {\n",
       "        vertical-align: top;\n",
       "    }\n",
       "\n",
       "    .dataframe thead th {\n",
       "        text-align: right;\n",
       "    }\n",
       "</style>\n",
       "<table border=\"1\" class=\"dataframe\">\n",
       "  <thead>\n",
       "    <tr style=\"text-align: right;\">\n",
       "      <th></th>\n",
       "      <th>overall</th>\n",
       "      <th>vote</th>\n",
       "      <th>verified</th>\n",
       "      <th>reviewTime</th>\n",
       "      <th>reviewerID</th>\n",
       "      <th>asin</th>\n",
       "      <th>reviewerName</th>\n",
       "      <th>reviewText</th>\n",
       "      <th>summary</th>\n",
       "      <th>unixReviewTime</th>\n",
       "      <th>...</th>\n",
       "      <th>feature</th>\n",
       "      <th>rank</th>\n",
       "      <th>also_view</th>\n",
       "      <th>details</th>\n",
       "      <th>main_cat</th>\n",
       "      <th>similar_item</th>\n",
       "      <th>date</th>\n",
       "      <th>price</th>\n",
       "      <th>imageURL</th>\n",
       "      <th>imageURLHighRes</th>\n",
       "    </tr>\n",
       "  </thead>\n",
       "  <tbody>\n",
       "    <tr>\n",
       "      <th>0</th>\n",
       "      <td>2.0</td>\n",
       "      <td>3</td>\n",
       "      <td>True</td>\n",
       "      <td>06 15, 2010</td>\n",
       "      <td>A1Q6MUU0B2ZDQG</td>\n",
       "      <td>B00004U9V2</td>\n",
       "      <td>D. Poston</td>\n",
       "      <td>I bought two of these 8.5 fl oz hand cream, and neither of the dispensers work.  The hand cream ...</td>\n",
       "      <td>dispensers don't work</td>\n",
       "      <td>1276560000</td>\n",
       "      <td>...</td>\n",
       "      <td>[]</td>\n",
       "      <td>4,324 in Beauty &amp; Personal Care (</td>\n",
       "      <td>[B00FRERO7G, B00GHX7H0A, B07GFHJRMX, B00TJ3NBN2, B00KOBT82G, B00R68QXCS, B074KGBGL7, B075MH4Q9L,...</td>\n",
       "      <td>{'\n",
       "    Product Dimensions: \n",
       "    ': '2.2 x 2.2 x 7 inches ; 8.8 ounces', 'Shipping Weight:': '14....</td>\n",
       "      <td>Luxury Beauty</td>\n",
       "      <td></td>\n",
       "      <td></td>\n",
       "      <td>$30.00</td>\n",
       "      <td>[https://images-na.ssl-images-amazon.com/images/I/41ClX6BRvZL._SX50_SY65_CR,0,0,50,65_.jpg, http...</td>\n",
       "      <td>[https://images-na.ssl-images-amazon.com/images/I/41ClX6BRvZL.jpg, https://images-na.ssl-images-...</td>\n",
       "    </tr>\n",
       "    <tr>\n",
       "      <th>1</th>\n",
       "      <td>5.0</td>\n",
       "      <td>14</td>\n",
       "      <td>True</td>\n",
       "      <td>01 7, 2010</td>\n",
       "      <td>A3HO2SQDCZIE9S</td>\n",
       "      <td>B00004U9V2</td>\n",
       "      <td>chandra</td>\n",
       "      <td>Believe me, over the years I have tried many, many different hand creams. I am one of those peop...</td>\n",
       "      <td>Best hand cream ever.</td>\n",
       "      <td>1262822400</td>\n",
       "      <td>...</td>\n",
       "      <td>[]</td>\n",
       "      <td>4,324 in Beauty &amp; Personal Care (</td>\n",
       "      <td>[B00FRERO7G, B00GHX7H0A, B07GFHJRMX, B00TJ3NBN2, B00KOBT82G, B00R68QXCS, B074KGBGL7, B075MH4Q9L,...</td>\n",
       "      <td>{'\n",
       "    Product Dimensions: \n",
       "    ': '2.2 x 2.2 x 7 inches ; 8.8 ounces', 'Shipping Weight:': '14....</td>\n",
       "      <td>Luxury Beauty</td>\n",
       "      <td></td>\n",
       "      <td></td>\n",
       "      <td>$30.00</td>\n",
       "      <td>[https://images-na.ssl-images-amazon.com/images/I/41ClX6BRvZL._SX50_SY65_CR,0,0,50,65_.jpg, http...</td>\n",
       "      <td>[https://images-na.ssl-images-amazon.com/images/I/41ClX6BRvZL.jpg, https://images-na.ssl-images-...</td>\n",
       "    </tr>\n",
       "    <tr>\n",
       "      <th>2</th>\n",
       "      <td>5.0</td>\n",
       "      <td>NaN</td>\n",
       "      <td>True</td>\n",
       "      <td>04 18, 2018</td>\n",
       "      <td>A2EM03F99X3RJZ</td>\n",
       "      <td>B00004U9V2</td>\n",
       "      <td>Maureen G</td>\n",
       "      <td>Great hand lotion</td>\n",
       "      <td>Five Stars</td>\n",
       "      <td>1524009600</td>\n",
       "      <td>...</td>\n",
       "      <td>[]</td>\n",
       "      <td>4,324 in Beauty &amp; Personal Care (</td>\n",
       "      <td>[B00FRERO7G, B00GHX7H0A, B07GFHJRMX, B00TJ3NBN2, B00KOBT82G, B00R68QXCS, B074KGBGL7, B075MH4Q9L,...</td>\n",
       "      <td>{'\n",
       "    Product Dimensions: \n",
       "    ': '2.2 x 2.2 x 7 inches ; 8.8 ounces', 'Shipping Weight:': '14....</td>\n",
       "      <td>Luxury Beauty</td>\n",
       "      <td></td>\n",
       "      <td></td>\n",
       "      <td>$30.00</td>\n",
       "      <td>[https://images-na.ssl-images-amazon.com/images/I/41ClX6BRvZL._SX50_SY65_CR,0,0,50,65_.jpg, http...</td>\n",
       "      <td>[https://images-na.ssl-images-amazon.com/images/I/41ClX6BRvZL.jpg, https://images-na.ssl-images-...</td>\n",
       "    </tr>\n",
       "    <tr>\n",
       "      <th>3</th>\n",
       "      <td>5.0</td>\n",
       "      <td>NaN</td>\n",
       "      <td>True</td>\n",
       "      <td>04 18, 2018</td>\n",
       "      <td>A3Z74TDRGD0HU</td>\n",
       "      <td>B00004U9V2</td>\n",
       "      <td>Terry K</td>\n",
       "      <td>This is the best for the severely dry skin on my hands</td>\n",
       "      <td>Five Stars</td>\n",
       "      <td>1524009600</td>\n",
       "      <td>...</td>\n",
       "      <td>[]</td>\n",
       "      <td>4,324 in Beauty &amp; Personal Care (</td>\n",
       "      <td>[B00FRERO7G, B00GHX7H0A, B07GFHJRMX, B00TJ3NBN2, B00KOBT82G, B00R68QXCS, B074KGBGL7, B075MH4Q9L,...</td>\n",
       "      <td>{'\n",
       "    Product Dimensions: \n",
       "    ': '2.2 x 2.2 x 7 inches ; 8.8 ounces', 'Shipping Weight:': '14....</td>\n",
       "      <td>Luxury Beauty</td>\n",
       "      <td></td>\n",
       "      <td></td>\n",
       "      <td>$30.00</td>\n",
       "      <td>[https://images-na.ssl-images-amazon.com/images/I/41ClX6BRvZL._SX50_SY65_CR,0,0,50,65_.jpg, http...</td>\n",
       "      <td>[https://images-na.ssl-images-amazon.com/images/I/41ClX6BRvZL.jpg, https://images-na.ssl-images-...</td>\n",
       "    </tr>\n",
       "    <tr>\n",
       "      <th>4</th>\n",
       "      <td>5.0</td>\n",
       "      <td>NaN</td>\n",
       "      <td>True</td>\n",
       "      <td>04 17, 2018</td>\n",
       "      <td>A2UXFNW9RTL4VM</td>\n",
       "      <td>B00004U9V2</td>\n",
       "      <td>Patricia Wood</td>\n",
       "      <td>The best non- oily hand cream ever. It heals overnight.</td>\n",
       "      <td>I always have a backup ready.</td>\n",
       "      <td>1523923200</td>\n",
       "      <td>...</td>\n",
       "      <td>[]</td>\n",
       "      <td>4,324 in Beauty &amp; Personal Care (</td>\n",
       "      <td>[B00FRERO7G, B00GHX7H0A, B07GFHJRMX, B00TJ3NBN2, B00KOBT82G, B00R68QXCS, B074KGBGL7, B075MH4Q9L,...</td>\n",
       "      <td>{'\n",
       "    Product Dimensions: \n",
       "    ': '2.2 x 2.2 x 7 inches ; 8.8 ounces', 'Shipping Weight:': '14....</td>\n",
       "      <td>Luxury Beauty</td>\n",
       "      <td></td>\n",
       "      <td></td>\n",
       "      <td>$30.00</td>\n",
       "      <td>[https://images-na.ssl-images-amazon.com/images/I/41ClX6BRvZL._SX50_SY65_CR,0,0,50,65_.jpg, http...</td>\n",
       "      <td>[https://images-na.ssl-images-amazon.com/images/I/41ClX6BRvZL.jpg, https://images-na.ssl-images-...</td>\n",
       "    </tr>\n",
       "  </tbody>\n",
       "</table>\n",
       "<p>5 rows × 30 columns</p>\n",
       "</div>"
      ],
      "text/plain": [
       "   overall vote  verified   reviewTime      reviewerID        asin  \\\n",
       "0      2.0    3      True  06 15, 2010  A1Q6MUU0B2ZDQG  B00004U9V2   \n",
       "1      5.0   14      True   01 7, 2010  A3HO2SQDCZIE9S  B00004U9V2   \n",
       "2      5.0  NaN      True  04 18, 2018  A2EM03F99X3RJZ  B00004U9V2   \n",
       "3      5.0  NaN      True  04 18, 2018   A3Z74TDRGD0HU  B00004U9V2   \n",
       "4      5.0  NaN      True  04 17, 2018  A2UXFNW9RTL4VM  B00004U9V2   \n",
       "\n",
       "    reviewerName  \\\n",
       "0      D. Poston   \n",
       "1        chandra   \n",
       "2      Maureen G   \n",
       "3        Terry K   \n",
       "4  Patricia Wood   \n",
       "\n",
       "                                                                                            reviewText  \\\n",
       "0  I bought two of these 8.5 fl oz hand cream, and neither of the dispensers work.  The hand cream ...   \n",
       "1  Believe me, over the years I have tried many, many different hand creams. I am one of those peop...   \n",
       "2                                                                                    Great hand lotion   \n",
       "3                                               This is the best for the severely dry skin on my hands   \n",
       "4                                              The best non- oily hand cream ever. It heals overnight.   \n",
       "\n",
       "                         summary  unixReviewTime  ... feature  \\\n",
       "0          dispensers don't work      1276560000  ...      []   \n",
       "1          Best hand cream ever.      1262822400  ...      []   \n",
       "2                     Five Stars      1524009600  ...      []   \n",
       "3                     Five Stars      1524009600  ...      []   \n",
       "4  I always have a backup ready.      1523923200  ...      []   \n",
       "\n",
       "                                rank  \\\n",
       "0  4,324 in Beauty & Personal Care (   \n",
       "1  4,324 in Beauty & Personal Care (   \n",
       "2  4,324 in Beauty & Personal Care (   \n",
       "3  4,324 in Beauty & Personal Care (   \n",
       "4  4,324 in Beauty & Personal Care (   \n",
       "\n",
       "                                                                                             also_view  \\\n",
       "0  [B00FRERO7G, B00GHX7H0A, B07GFHJRMX, B00TJ3NBN2, B00KOBT82G, B00R68QXCS, B074KGBGL7, B075MH4Q9L,...   \n",
       "1  [B00FRERO7G, B00GHX7H0A, B07GFHJRMX, B00TJ3NBN2, B00KOBT82G, B00R68QXCS, B074KGBGL7, B075MH4Q9L,...   \n",
       "2  [B00FRERO7G, B00GHX7H0A, B07GFHJRMX, B00TJ3NBN2, B00KOBT82G, B00R68QXCS, B074KGBGL7, B075MH4Q9L,...   \n",
       "3  [B00FRERO7G, B00GHX7H0A, B07GFHJRMX, B00TJ3NBN2, B00KOBT82G, B00R68QXCS, B074KGBGL7, B075MH4Q9L,...   \n",
       "4  [B00FRERO7G, B00GHX7H0A, B07GFHJRMX, B00TJ3NBN2, B00KOBT82G, B00R68QXCS, B074KGBGL7, B075MH4Q9L,...   \n",
       "\n",
       "                                                                                               details  \\\n",
       "0  {'\n",
       "    Product Dimensions: \n",
       "    ': '2.2 x 2.2 x 7 inches ; 8.8 ounces', 'Shipping Weight:': '14....   \n",
       "1  {'\n",
       "    Product Dimensions: \n",
       "    ': '2.2 x 2.2 x 7 inches ; 8.8 ounces', 'Shipping Weight:': '14....   \n",
       "2  {'\n",
       "    Product Dimensions: \n",
       "    ': '2.2 x 2.2 x 7 inches ; 8.8 ounces', 'Shipping Weight:': '14....   \n",
       "3  {'\n",
       "    Product Dimensions: \n",
       "    ': '2.2 x 2.2 x 7 inches ; 8.8 ounces', 'Shipping Weight:': '14....   \n",
       "4  {'\n",
       "    Product Dimensions: \n",
       "    ': '2.2 x 2.2 x 7 inches ; 8.8 ounces', 'Shipping Weight:': '14....   \n",
       "\n",
       "        main_cat similar_item date   price  \\\n",
       "0  Luxury Beauty                    $30.00   \n",
       "1  Luxury Beauty                    $30.00   \n",
       "2  Luxury Beauty                    $30.00   \n",
       "3  Luxury Beauty                    $30.00   \n",
       "4  Luxury Beauty                    $30.00   \n",
       "\n",
       "                                                                                              imageURL  \\\n",
       "0  [https://images-na.ssl-images-amazon.com/images/I/41ClX6BRvZL._SX50_SY65_CR,0,0,50,65_.jpg, http...   \n",
       "1  [https://images-na.ssl-images-amazon.com/images/I/41ClX6BRvZL._SX50_SY65_CR,0,0,50,65_.jpg, http...   \n",
       "2  [https://images-na.ssl-images-amazon.com/images/I/41ClX6BRvZL._SX50_SY65_CR,0,0,50,65_.jpg, http...   \n",
       "3  [https://images-na.ssl-images-amazon.com/images/I/41ClX6BRvZL._SX50_SY65_CR,0,0,50,65_.jpg, http...   \n",
       "4  [https://images-na.ssl-images-amazon.com/images/I/41ClX6BRvZL._SX50_SY65_CR,0,0,50,65_.jpg, http...   \n",
       "\n",
       "                                                                                       imageURLHighRes  \n",
       "0  [https://images-na.ssl-images-amazon.com/images/I/41ClX6BRvZL.jpg, https://images-na.ssl-images-...  \n",
       "1  [https://images-na.ssl-images-amazon.com/images/I/41ClX6BRvZL.jpg, https://images-na.ssl-images-...  \n",
       "2  [https://images-na.ssl-images-amazon.com/images/I/41ClX6BRvZL.jpg, https://images-na.ssl-images-...  \n",
       "3  [https://images-na.ssl-images-amazon.com/images/I/41ClX6BRvZL.jpg, https://images-na.ssl-images-...  \n",
       "4  [https://images-na.ssl-images-amazon.com/images/I/41ClX6BRvZL.jpg, https://images-na.ssl-images-...  \n",
       "\n",
       "[5 rows x 30 columns]"
      ]
     },
     "execution_count": 19,
     "metadata": {},
     "output_type": "execute_result"
    }
   ],
   "source": [
    "# Checking the top 5 rows from df_merged\n",
    "\n",
    "df_merged.head()"
   ]
  },
  {
   "cell_type": "code",
   "execution_count": 20,
   "metadata": {},
   "outputs": [
    {
     "data": {
      "text/plain": [
       "(573970,)"
      ]
     },
     "execution_count": 20,
     "metadata": {},
     "output_type": "execute_result"
    }
   ],
   "source": [
    "# Let us check the brand column\n",
    "## There are 573970 rows where the brand is not specified. It is better to drop the column\n",
    "\n",
    "df_merged.brand[df_merged.brand.str.strip() == ''].shape"
   ]
  },
  {
   "cell_type": "code",
   "execution_count": 21,
   "metadata": {},
   "outputs": [],
   "source": [
    "# Let us drop some unnecessary columns from the df_merged dataframe\n",
    "\n",
    "df_merged.drop(columns=['vote', 'verified', 'reviewTime', 'style', 'image', 'summary',\n",
    "                        'category', 'tech1', 'fit', 'also_buy', 'tech2', 'reviewText',\n",
    "                       'feature', 'rank', 'also_view','details', 'main_cat', 'unixReviewTime',\n",
    "                       'similar_item', 'date', 'imageURL', 'imageURLHighRes', 'brand'], \n",
    "               axis=1, inplace=True)"
   ]
  },
  {
   "cell_type": "code",
   "execution_count": 22,
   "metadata": {},
   "outputs": [],
   "source": [
    "# Let us rename some columns for convenience\n",
    "\n",
    "df_merged.rename(columns={'overall':'rating', 'reviewerID':'userId', 'asin':'itemId', \n",
    "                          'reviewerName':'userName'}, inplace=True)"
   ]
  },
  {
   "cell_type": "code",
   "execution_count": 23,
   "metadata": {},
   "outputs": [],
   "source": [
    "# Lets do some formatting of the price column. Currently it is of object type. We will change it to float64\n",
    "\n",
    "df_merged['price'] = df_merged['price'].str.replace('$','').str.replace(',','')\n",
    "df_merged.drop(df_merged[df_merged['price'].str.strip() == \"\"].index, axis=0, inplace=True)\n",
    "df_merged.drop(df_merged[df_merged['price'].str.len() > 10].index, axis=0, inplace=True)\n",
    "df_merged['price']= df_merged['price'].astype(float)"
   ]
  },
  {
   "cell_type": "code",
   "execution_count": 24,
   "metadata": {},
   "outputs": [],
   "source": [
    "# Remove html tags and special characters from title column\n",
    "\n",
    "df_merged['title'] = [BeautifulSoup(X).get_text() for X in df_merged['title'] ]"
   ]
  },
  {
   "cell_type": "code",
   "execution_count": 25,
   "metadata": {},
   "outputs": [
    {
     "data": {
      "text/html": [
       "<div>\n",
       "<style scoped>\n",
       "    .dataframe tbody tr th:only-of-type {\n",
       "        vertical-align: middle;\n",
       "    }\n",
       "\n",
       "    .dataframe tbody tr th {\n",
       "        vertical-align: top;\n",
       "    }\n",
       "\n",
       "    .dataframe thead th {\n",
       "        text-align: right;\n",
       "    }\n",
       "</style>\n",
       "<table border=\"1\" class=\"dataframe\">\n",
       "  <thead>\n",
       "    <tr style=\"text-align: right;\">\n",
       "      <th></th>\n",
       "      <th>itemId</th>\n",
       "      <th>count</th>\n",
       "      <th>mean</th>\n",
       "    </tr>\n",
       "  </thead>\n",
       "  <tbody>\n",
       "    <tr>\n",
       "      <th>0</th>\n",
       "      <td>B00004U9V2</td>\n",
       "      <td>582</td>\n",
       "      <td>4.623711</td>\n",
       "    </tr>\n",
       "    <tr>\n",
       "      <th>1</th>\n",
       "      <td>B00005A77F</td>\n",
       "      <td>18</td>\n",
       "      <td>4.722222</td>\n",
       "    </tr>\n",
       "    <tr>\n",
       "      <th>2</th>\n",
       "      <td>B00005NDTD</td>\n",
       "      <td>80</td>\n",
       "      <td>4.862500</td>\n",
       "    </tr>\n",
       "    <tr>\n",
       "      <th>3</th>\n",
       "      <td>B00005V50B</td>\n",
       "      <td>558</td>\n",
       "      <td>4.177419</td>\n",
       "    </tr>\n",
       "    <tr>\n",
       "      <th>4</th>\n",
       "      <td>B00005V50C</td>\n",
       "      <td>26</td>\n",
       "      <td>4.346154</td>\n",
       "    </tr>\n",
       "    <tr>\n",
       "      <th>...</th>\n",
       "      <td>...</td>\n",
       "      <td>...</td>\n",
       "      <td>...</td>\n",
       "    </tr>\n",
       "    <tr>\n",
       "      <th>6849</th>\n",
       "      <td>B01HIQEOLO</td>\n",
       "      <td>11</td>\n",
       "      <td>5.000000</td>\n",
       "    </tr>\n",
       "    <tr>\n",
       "      <th>6850</th>\n",
       "      <td>B01HIQHQU0</td>\n",
       "      <td>14</td>\n",
       "      <td>4.500000</td>\n",
       "    </tr>\n",
       "    <tr>\n",
       "      <th>6851</th>\n",
       "      <td>B01HIQIEYC</td>\n",
       "      <td>25</td>\n",
       "      <td>4.360000</td>\n",
       "    </tr>\n",
       "    <tr>\n",
       "      <th>6852</th>\n",
       "      <td>B01HJ2UY0W</td>\n",
       "      <td>1</td>\n",
       "      <td>1.000000</td>\n",
       "    </tr>\n",
       "    <tr>\n",
       "      <th>6853</th>\n",
       "      <td>B01HJ2UY1G</td>\n",
       "      <td>1</td>\n",
       "      <td>5.000000</td>\n",
       "    </tr>\n",
       "  </tbody>\n",
       "</table>\n",
       "<p>6854 rows × 3 columns</p>\n",
       "</div>"
      ],
      "text/plain": [
       "          itemId  count      mean\n",
       "0     B00004U9V2    582  4.623711\n",
       "1     B00005A77F     18  4.722222\n",
       "2     B00005NDTD     80  4.862500\n",
       "3     B00005V50B    558  4.177419\n",
       "4     B00005V50C     26  4.346154\n",
       "...          ...    ...       ...\n",
       "6849  B01HIQEOLO     11  5.000000\n",
       "6850  B01HIQHQU0     14  4.500000\n",
       "6851  B01HIQIEYC     25  4.360000\n",
       "6852  B01HJ2UY0W      1  1.000000\n",
       "6853  B01HJ2UY1G      1  5.000000\n",
       "\n",
       "[6854 rows x 3 columns]"
      ]
     },
     "execution_count": 25,
     "metadata": {},
     "output_type": "execute_result"
    }
   ],
   "source": [
    "# Finally, for each unique product, we will calculate the count of ratings and the average rating for that product\n",
    "\n",
    "ratings = df_merged.groupby('itemId').agg(['count', 'mean'])['rating']\n",
    "ratings.reset_index()"
   ]
  },
  {
   "cell_type": "code",
   "execution_count": 26,
   "metadata": {},
   "outputs": [],
   "source": [
    "# We merge the ratings dataframe to the df_merged dataframe \n",
    "# and rename the count and mean columns to rating_count and rating_avg respectively\n",
    "\n",
    "df_merged_final = pd.merge(df_merged, ratings, how='inner', on='itemId')\n",
    "df_merged_final.rename(columns={'count':'rating_count', 'mean':'rating_avg'}, inplace=True)"
   ]
  },
  {
   "cell_type": "code",
   "execution_count": 27,
   "metadata": {},
   "outputs": [
    {
     "data": {
      "text/html": [
       "<div>\n",
       "<style scoped>\n",
       "    .dataframe tbody tr th:only-of-type {\n",
       "        vertical-align: middle;\n",
       "    }\n",
       "\n",
       "    .dataframe tbody tr th {\n",
       "        vertical-align: top;\n",
       "    }\n",
       "\n",
       "    .dataframe thead th {\n",
       "        text-align: right;\n",
       "    }\n",
       "</style>\n",
       "<table border=\"1\" class=\"dataframe\">\n",
       "  <thead>\n",
       "    <tr style=\"text-align: right;\">\n",
       "      <th></th>\n",
       "      <th>rating</th>\n",
       "      <th>userId</th>\n",
       "      <th>itemId</th>\n",
       "      <th>userName</th>\n",
       "      <th>description</th>\n",
       "      <th>title</th>\n",
       "      <th>price</th>\n",
       "      <th>rating_count</th>\n",
       "      <th>rating_avg</th>\n",
       "    </tr>\n",
       "  </thead>\n",
       "  <tbody>\n",
       "    <tr>\n",
       "      <th>0</th>\n",
       "      <td>2.0</td>\n",
       "      <td>A1Q6MUU0B2ZDQG</td>\n",
       "      <td>B00004U9V2</td>\n",
       "      <td>D. Poston</td>\n",
       "      <td>[After a long day of handling thorny situations, our new hand therapy pump is just the help you ...</td>\n",
       "      <td>Crabtree &amp; Evelyn - Gardener's Ultra-Moisturising Hand Therapy Pump - 250g/8.8 OZ</td>\n",
       "      <td>30.0</td>\n",
       "      <td>582</td>\n",
       "      <td>4.623711</td>\n",
       "    </tr>\n",
       "    <tr>\n",
       "      <th>1</th>\n",
       "      <td>5.0</td>\n",
       "      <td>A3HO2SQDCZIE9S</td>\n",
       "      <td>B00004U9V2</td>\n",
       "      <td>chandra</td>\n",
       "      <td>[After a long day of handling thorny situations, our new hand therapy pump is just the help you ...</td>\n",
       "      <td>Crabtree &amp; Evelyn - Gardener's Ultra-Moisturising Hand Therapy Pump - 250g/8.8 OZ</td>\n",
       "      <td>30.0</td>\n",
       "      <td>582</td>\n",
       "      <td>4.623711</td>\n",
       "    </tr>\n",
       "    <tr>\n",
       "      <th>2</th>\n",
       "      <td>5.0</td>\n",
       "      <td>A2EM03F99X3RJZ</td>\n",
       "      <td>B00004U9V2</td>\n",
       "      <td>Maureen G</td>\n",
       "      <td>[After a long day of handling thorny situations, our new hand therapy pump is just the help you ...</td>\n",
       "      <td>Crabtree &amp; Evelyn - Gardener's Ultra-Moisturising Hand Therapy Pump - 250g/8.8 OZ</td>\n",
       "      <td>30.0</td>\n",
       "      <td>582</td>\n",
       "      <td>4.623711</td>\n",
       "    </tr>\n",
       "    <tr>\n",
       "      <th>3</th>\n",
       "      <td>5.0</td>\n",
       "      <td>A3Z74TDRGD0HU</td>\n",
       "      <td>B00004U9V2</td>\n",
       "      <td>Terry K</td>\n",
       "      <td>[After a long day of handling thorny situations, our new hand therapy pump is just the help you ...</td>\n",
       "      <td>Crabtree &amp; Evelyn - Gardener's Ultra-Moisturising Hand Therapy Pump - 250g/8.8 OZ</td>\n",
       "      <td>30.0</td>\n",
       "      <td>582</td>\n",
       "      <td>4.623711</td>\n",
       "    </tr>\n",
       "    <tr>\n",
       "      <th>4</th>\n",
       "      <td>5.0</td>\n",
       "      <td>A2UXFNW9RTL4VM</td>\n",
       "      <td>B00004U9V2</td>\n",
       "      <td>Patricia Wood</td>\n",
       "      <td>[After a long day of handling thorny situations, our new hand therapy pump is just the help you ...</td>\n",
       "      <td>Crabtree &amp; Evelyn - Gardener's Ultra-Moisturising Hand Therapy Pump - 250g/8.8 OZ</td>\n",
       "      <td>30.0</td>\n",
       "      <td>582</td>\n",
       "      <td>4.623711</td>\n",
       "    </tr>\n",
       "  </tbody>\n",
       "</table>\n",
       "</div>"
      ],
      "text/plain": [
       "   rating          userId      itemId       userName  \\\n",
       "0     2.0  A1Q6MUU0B2ZDQG  B00004U9V2      D. Poston   \n",
       "1     5.0  A3HO2SQDCZIE9S  B00004U9V2        chandra   \n",
       "2     5.0  A2EM03F99X3RJZ  B00004U9V2      Maureen G   \n",
       "3     5.0   A3Z74TDRGD0HU  B00004U9V2        Terry K   \n",
       "4     5.0  A2UXFNW9RTL4VM  B00004U9V2  Patricia Wood   \n",
       "\n",
       "                                                                                           description  \\\n",
       "0  [After a long day of handling thorny situations, our new hand therapy pump is just the help you ...   \n",
       "1  [After a long day of handling thorny situations, our new hand therapy pump is just the help you ...   \n",
       "2  [After a long day of handling thorny situations, our new hand therapy pump is just the help you ...   \n",
       "3  [After a long day of handling thorny situations, our new hand therapy pump is just the help you ...   \n",
       "4  [After a long day of handling thorny situations, our new hand therapy pump is just the help you ...   \n",
       "\n",
       "                                                                               title  \\\n",
       "0  Crabtree & Evelyn - Gardener's Ultra-Moisturising Hand Therapy Pump - 250g/8.8 OZ   \n",
       "1  Crabtree & Evelyn - Gardener's Ultra-Moisturising Hand Therapy Pump - 250g/8.8 OZ   \n",
       "2  Crabtree & Evelyn - Gardener's Ultra-Moisturising Hand Therapy Pump - 250g/8.8 OZ   \n",
       "3  Crabtree & Evelyn - Gardener's Ultra-Moisturising Hand Therapy Pump - 250g/8.8 OZ   \n",
       "4  Crabtree & Evelyn - Gardener's Ultra-Moisturising Hand Therapy Pump - 250g/8.8 OZ   \n",
       "\n",
       "   price  rating_count  rating_avg  \n",
       "0   30.0           582    4.623711  \n",
       "1   30.0           582    4.623711  \n",
       "2   30.0           582    4.623711  \n",
       "3   30.0           582    4.623711  \n",
       "4   30.0           582    4.623711  "
      ]
     },
     "execution_count": 27,
     "metadata": {},
     "output_type": "execute_result"
    }
   ],
   "source": [
    "# Let us have a look at the final merged dataframe\n",
    "\n",
    "df_merged_final.head()"
   ]
  },
  {
   "cell_type": "code",
   "execution_count": 28,
   "metadata": {},
   "outputs": [
    {
     "name": "stdout",
     "output_type": "stream",
     "text": [
      "Number of rows in the final dataframe :  459985\n",
      "Number of columns in the final dataframe : 9\n",
      "Number of unique users in the final dataframe =  342713\n",
      "Number of unique products in the final dataframe =  6854\n"
     ]
    }
   ],
   "source": [
    "rows, columns = df_merged_final.shape\n",
    "print(\"Number of rows in the final dataframe : \", rows)\n",
    "print(\"Number of columns in the final dataframe :\", columns)\n",
    "print('Number of unique users in the final dataframe = ', df_merged_final['userId'].nunique())\n",
    "print('Number of unique products in the final dataframe = ', df_merged_final['itemId'].nunique())"
   ]
  },
  {
   "cell_type": "markdown",
   "metadata": {},
   "source": [
    "## Exploratory data analysis\n",
    "\n",
    "In this section, we will try to gain some insights from the dataset, by answering some questions related to the data. We will\n",
    "also plot some graphs and charts with the help of python data visualization libraries like matplotlib and seaborn."
   ]
  },
  {
   "cell_type": "code",
   "execution_count": 29,
   "metadata": {},
   "outputs": [
    {
     "data": {
      "text/plain": [
       "[Text(0, 0.5, 'Rating'), Text(0.5, 0, 'Count of Ratings')]"
      ]
     },
     "execution_count": 29,
     "metadata": {},
     "output_type": "execute_result"
    },
    {
     "data": {
      "image/png": "[encoded data removed]",
      "text/plain": [
       "<Figure size 864x432 with 1 Axes>"
      ]
     },
     "metadata": {
      "needs_background": "light"
     },
     "output_type": "display_data"
    }
   ],
   "source": [
    "# Distribution of ratings\n",
    "\n",
    "fig, ax = plt.subplots(figsize=(12, 6))\n",
    "sns.countplot(y=\"rating\", data=df_merged_final).set(xlabel='Count of Ratings', ylabel='Rating')"
   ]
  },
  {
   "cell_type": "code",
   "execution_count": 30,
   "metadata": {},
   "outputs": [
    {
     "data": {
      "text/html": [
       "<div>\n",
       "<style scoped>\n",
       "    .dataframe tbody tr th:only-of-type {\n",
       "        vertical-align: middle;\n",
       "    }\n",
       "\n",
       "    .dataframe tbody tr th {\n",
       "        vertical-align: top;\n",
       "    }\n",
       "\n",
       "    .dataframe thead th {\n",
       "        text-align: right;\n",
       "    }\n",
       "</style>\n",
       "<table border=\"1\" class=\"dataframe\">\n",
       "  <thead>\n",
       "    <tr style=\"text-align: right;\">\n",
       "      <th></th>\n",
       "      <th>itemId</th>\n",
       "      <th>title</th>\n",
       "      <th>count</th>\n",
       "    </tr>\n",
       "  </thead>\n",
       "  <tbody>\n",
       "    <tr>\n",
       "      <th>0</th>\n",
       "      <td>B0013U0EYI</td>\n",
       "      <td>TOPPIK Hair Building Fibers</td>\n",
       "      <td>6954</td>\n",
       "    </tr>\n",
       "    <tr>\n",
       "      <th>1</th>\n",
       "      <td>B00172O9NO</td>\n",
       "      <td>Mario Badescu Facial Spray with Aloe, Herbs and Rosewater, 8 oz.</td>\n",
       "      <td>6138</td>\n",
       "    </tr>\n",
       "    <tr>\n",
       "      <th>2</th>\n",
       "      <td>B00176GSEI</td>\n",
       "      <td>HOT TOOLS Professional 24k Gold Extra-Long Barrel Curling Iron/Wand for Long Lasting Results</td>\n",
       "      <td>5262</td>\n",
       "    </tr>\n",
       "    <tr>\n",
       "      <th>3</th>\n",
       "      <td>B0017SWIU4</td>\n",
       "      <td>Mario Badescu Drying Lotion, 1 fl. oz.</td>\n",
       "      <td>4300</td>\n",
       "    </tr>\n",
       "    <tr>\n",
       "      <th>4</th>\n",
       "      <td>B0002ZW5UQ</td>\n",
       "      <td>TOPPIK Hair Building Fibers</td>\n",
       "      <td>3460</td>\n",
       "    </tr>\n",
       "    <tr>\n",
       "      <th>5</th>\n",
       "      <td>B000IIA5UO</td>\n",
       "      <td>HOT TOOLS Professional 24k Gold Extra-Long Barrel Curling Iron/Wand for Long Lasting Results</td>\n",
       "      <td>3198</td>\n",
       "    </tr>\n",
       "    <tr>\n",
       "      <th>6</th>\n",
       "      <td>B000NG80GM</td>\n",
       "      <td>OPI Nail Lacquer, Cajun Shrimp, 0.5 fl. oz.</td>\n",
       "      <td>3075</td>\n",
       "    </tr>\n",
       "    <tr>\n",
       "      <th>7</th>\n",
       "      <td>B000142FVW</td>\n",
       "      <td>OPI Nail Lacquer, Not So Bora-Bora-ing Pink, 0.5 Fl Oz</td>\n",
       "      <td>3056</td>\n",
       "    </tr>\n",
       "    <tr>\n",
       "      <th>8</th>\n",
       "      <td>B002K6AHQY</td>\n",
       "      <td>CND Vinylux Weekly Nail Polish, Rock Royalty, .5 oz</td>\n",
       "      <td>2810</td>\n",
       "    </tr>\n",
       "    <tr>\n",
       "      <th>9</th>\n",
       "      <td>B000ASDGK8</td>\n",
       "      <td>BaBylissPRO Ceramix Xtreme Dryer</td>\n",
       "      <td>2734</td>\n",
       "    </tr>\n",
       "  </tbody>\n",
       "</table>\n",
       "</div>"
      ],
      "text/plain": [
       "       itemId  \\\n",
       "0  B0013U0EYI   \n",
       "1  B00172O9NO   \n",
       "2  B00176GSEI   \n",
       "3  B0017SWIU4   \n",
       "4  B0002ZW5UQ   \n",
       "5  B000IIA5UO   \n",
       "6  B000NG80GM   \n",
       "7  B000142FVW   \n",
       "8  B002K6AHQY   \n",
       "9  B000ASDGK8   \n",
       "\n",
       "                                                                                          title  \\\n",
       "0                                                                   TOPPIK Hair Building Fibers   \n",
       "1                              Mario Badescu Facial Spray with Aloe, Herbs and Rosewater, 8 oz.   \n",
       "2  HOT TOOLS Professional 24k Gold Extra-Long Barrel Curling Iron/Wand for Long Lasting Results   \n",
       "3                                                        Mario Badescu Drying Lotion, 1 fl. oz.   \n",
       "4                                                                   TOPPIK Hair Building Fibers   \n",
       "5  HOT TOOLS Professional 24k Gold Extra-Long Barrel Curling Iron/Wand for Long Lasting Results   \n",
       "6                                                   OPI Nail Lacquer, Cajun Shrimp, 0.5 fl. oz.   \n",
       "7                                        OPI Nail Lacquer, Not So Bora-Bora-ing Pink, 0.5 Fl Oz   \n",
       "8                                           CND Vinylux Weekly Nail Polish, Rock Royalty, .5 oz   \n",
       "9                                                              BaBylissPRO Ceramix Xtreme Dryer   \n",
       "\n",
       "   count  \n",
       "0   6954  \n",
       "1   6138  \n",
       "2   5262  \n",
       "3   4300  \n",
       "4   3460  \n",
       "5   3198  \n",
       "6   3075  \n",
       "7   3056  \n",
       "8   2810  \n",
       "9   2734  "
      ]
     },
     "execution_count": 30,
     "metadata": {},
     "output_type": "execute_result"
    }
   ],
   "source": [
    "# Most reviewed item title\n",
    "\n",
    "top_10_items = df_merged_final.groupby(['itemId', 'title']).agg(['count'])['rating'].sort_values(by=['count'], ascending=False).head(10)\n",
    "top_10_items.reset_index(inplace=True)\n",
    "top_10_items"
   ]
  },
  {
   "cell_type": "code",
   "execution_count": 31,
   "metadata": {},
   "outputs": [
    {
     "data": {
      "text/plain": [
       "[Text(0, 0, 'TOPPIK Hair Building Fibers'),\n",
       " Text(0, 0, 'Mario Badescu Facial Spray with Aloe, Herbs and\\nRosewater, 8 oz.'),\n",
       " Text(0, 0, 'HOT TOOLS Professional 24k Gold Extra-Long Barrel\\nCurling Iron/Wand for Long Lasting Results'),\n",
       " Text(0, 0, 'Mario Badescu Drying Lotion, 1 fl. oz.'),\n",
       " Text(0, 0, 'OPI Nail Lacquer, Cajun Shrimp, 0.5 fl. oz.'),\n",
       " Text(0, 0, 'OPI Nail Lacquer, Not So Bora-Bora-ing Pink, 0.5\\nFl Oz'),\n",
       " Text(0, 0, 'CND Vinylux Weekly Nail Polish, Rock Royalty, .5\\noz'),\n",
       " Text(0, 0, 'BaBylissPRO Ceramix Xtreme Dryer')]"
      ]
     },
     "execution_count": 31,
     "metadata": {},
     "output_type": "execute_result"
    },
    {
     "data": {
      "image/png": "[encoded data removed]",
      "text/plain": [
       "<Figure size 864x432 with 1 Axes>"
      ]
     },
     "metadata": {
      "needs_background": "light"
     },
     "output_type": "display_data"
    }
   ],
   "source": [
    "fig, ax = plt.subplots(figsize=(12,6))\n",
    "ax.set_title('Top 10 most reviewed products')\n",
    "ax.tick_params(axis='x', rotation=90)\n",
    "sns.barplot(x='title', y='count', data=top_10_items).set(xlabel='Product', ylabel='Count of Ratings')\n",
    "ax.set_xticklabels(textwrap.fill(x.get_text(), 50) for x in ax.get_xticklabels())"
   ]
  },
  {
   "cell_type": "code",
   "execution_count": 32,
   "metadata": {},
   "outputs": [
    {
     "data": {
      "text/html": [
       "<div>\n",
       "<style scoped>\n",
       "    .dataframe tbody tr th:only-of-type {\n",
       "        vertical-align: middle;\n",
       "    }\n",
       "\n",
       "    .dataframe tbody tr th {\n",
       "        vertical-align: top;\n",
       "    }\n",
       "\n",
       "    .dataframe thead th {\n",
       "        text-align: right;\n",
       "    }\n",
       "</style>\n",
       "<table border=\"1\" class=\"dataframe\">\n",
       "  <thead>\n",
       "    <tr style=\"text-align: right;\">\n",
       "      <th></th>\n",
       "      <th>userId</th>\n",
       "      <th>userName</th>\n",
       "      <th>count</th>\n",
       "    </tr>\n",
       "  </thead>\n",
       "  <tbody>\n",
       "    <tr>\n",
       "      <th>0</th>\n",
       "      <td>AJL6HX8O2QLVO</td>\n",
       "      <td>Patrick Tracy</td>\n",
       "      <td>128</td>\n",
       "    </tr>\n",
       "    <tr>\n",
       "      <th>1</th>\n",
       "      <td>A1O4PNHACFEDEM</td>\n",
       "      <td>pmburk</td>\n",
       "      <td>125</td>\n",
       "    </tr>\n",
       "    <tr>\n",
       "      <th>2</th>\n",
       "      <td>A18VCM7Y7HK6EW</td>\n",
       "      <td>Chris</td>\n",
       "      <td>124</td>\n",
       "    </tr>\n",
       "    <tr>\n",
       "      <th>3</th>\n",
       "      <td>AJC7TSNP5UAWN</td>\n",
       "      <td>Mike</td>\n",
       "      <td>124</td>\n",
       "    </tr>\n",
       "    <tr>\n",
       "      <th>4</th>\n",
       "      <td>A2NT1LGR2BYP0I</td>\n",
       "      <td>LeeC</td>\n",
       "      <td>124</td>\n",
       "    </tr>\n",
       "    <tr>\n",
       "      <th>5</th>\n",
       "      <td>A11Z3ANM4PQFMH</td>\n",
       "      <td>xaggie</td>\n",
       "      <td>124</td>\n",
       "    </tr>\n",
       "    <tr>\n",
       "      <th>6</th>\n",
       "      <td>A3NMQEQPT5LDIA</td>\n",
       "      <td>PacNW</td>\n",
       "      <td>123</td>\n",
       "    </tr>\n",
       "    <tr>\n",
       "      <th>7</th>\n",
       "      <td>A2V1MAUHH1YHKK</td>\n",
       "      <td>Mdoza</td>\n",
       "      <td>123</td>\n",
       "    </tr>\n",
       "    <tr>\n",
       "      <th>8</th>\n",
       "      <td>A3NQA378KXTZQM</td>\n",
       "      <td>JMinton</td>\n",
       "      <td>123</td>\n",
       "    </tr>\n",
       "    <tr>\n",
       "      <th>9</th>\n",
       "      <td>A2H6LHCM3AR3YV</td>\n",
       "      <td>Twitch</td>\n",
       "      <td>123</td>\n",
       "    </tr>\n",
       "  </tbody>\n",
       "</table>\n",
       "</div>"
      ],
      "text/plain": [
       "           userId       userName  count\n",
       "0   AJL6HX8O2QLVO  Patrick Tracy    128\n",
       "1  A1O4PNHACFEDEM         pmburk    125\n",
       "2  A18VCM7Y7HK6EW          Chris    124\n",
       "3   AJC7TSNP5UAWN           Mike    124\n",
       "4  A2NT1LGR2BYP0I           LeeC    124\n",
       "5  A11Z3ANM4PQFMH         xaggie    124\n",
       "6  A3NMQEQPT5LDIA          PacNW    123\n",
       "7  A2V1MAUHH1YHKK          Mdoza    123\n",
       "8  A3NQA378KXTZQM        JMinton    123\n",
       "9  A2H6LHCM3AR3YV         Twitch    123"
      ]
     },
     "execution_count": 32,
     "metadata": {},
     "output_type": "execute_result"
    }
   ],
   "source": [
    "# Top 10 users based on number of ratings given\n",
    "\n",
    "top_10_users = df_merged_final.groupby(['userId', 'userName']).agg(['count'])['rating'].sort_values(by=['count'], ascending=False).head(10)\n",
    "top_10_users.reset_index(inplace=True)\n",
    "top_10_users"
   ]
  },
  {
   "cell_type": "code",
   "execution_count": 33,
   "metadata": {},
   "outputs": [
    {
     "data": {
      "text/plain": [
       "[Text(0, 0.5, 'Count of Ratings given'), Text(0.5, 0, 'User Name')]"
      ]
     },
     "execution_count": 33,
     "metadata": {},
     "output_type": "execute_result"
    },
    {
     "data": {
      "image/png": "[encoded data removed]",
      "text/plain": [
       "<Figure size 864x432 with 1 Axes>"
      ]
     },
     "metadata": {
      "needs_background": "light"
     },
     "output_type": "display_data"
    }
   ],
   "source": [
    "fig, ax = plt.subplots(figsize=(12,6))\n",
    "ax.set_title('Top 10 users based on number of reviews given')\n",
    "ax.tick_params(axis='x', rotation=45)\n",
    "ax.set(ylim=(100,130))\n",
    "sns.barplot(x='userName', y='count', data=top_10_users).set(xlabel='User Name', ylabel='Count of Ratings given')"
   ]
  },
  {
   "cell_type": "code",
   "execution_count": 34,
   "metadata": {},
   "outputs": [
    {
     "data": {
      "text/plain": [
       "count    459985.000000\n",
       "mean         40.570409\n",
       "std          42.137622\n",
       "min           1.000000\n",
       "25%          17.500000\n",
       "50%          28.000000\n",
       "75%          46.950000\n",
       "max        6500.000000\n",
       "Name: price, dtype: float64"
      ]
     },
     "execution_count": 34,
     "metadata": {},
     "output_type": "execute_result"
    }
   ],
   "source": [
    "# Lets take a look at the price range\n",
    "\n",
    "df_merged_final['price'].describe()"
   ]
  },
  {
   "cell_type": "code",
   "execution_count": 40,
   "metadata": {},
   "outputs": [
    {
     "data": {
      "text/plain": [
       "<matplotlib.axes._subplots.AxesSubplot at 0x1a01853d0a0>"
      ]
     },
     "execution_count": 40,
     "metadata": {},
     "output_type": "execute_result"
    },
    {
     "data": {
      "image/png": "[encoded data removed]",
      "text/plain": [
       "<Figure size 864x432 with 1 Axes>"
      ]
     },
     "metadata": {
      "needs_background": "light"
     },
     "output_type": "display_data"
    }
   ],
   "source": [
    "fig, ax = plt.subplots(figsize=(12,6))\n",
    "#plt.boxplot(df_merged_final.price, showfliers=False)\n",
    "sns.boxplot(y='price', data=df_merged_final, showfliers=False)"
   ]
  },
  {
   "cell_type": "code",
   "execution_count": 36,
   "metadata": {},
   "outputs": [],
   "source": [
    "df_merged_final.to_csv('luxury_beauty_cleaned.csv', index = False)"
   ]
  }
 ],
 "metadata": {
  "kernelspec": {
   "display_name": "Python 3",
   "language": "python",
   "name": "python3"
  },
  "language_info": {
   "codemirror_mode": {
    "name": "ipython",
    "version": 3
   },
   "file_extension": ".py",
   "mimetype": "text/x-python",
   "name": "python",
   "nbconvert_exporter": "python",
   "pygments_lexer": "ipython3",
   "version": "3.8.3"
  }
 },
 "nbformat": 4,
 "nbformat_minor": 4
}
