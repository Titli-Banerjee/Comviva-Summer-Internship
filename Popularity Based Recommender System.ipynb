{
 "cells": [
  {
   "cell_type": "markdown",
   "metadata": {},
   "source": [
    "# Popularity Based Recommender System\n",
    "\n",
    "It is a type of recommendation system which works on the principle of popularity and or anything which is in trend. \n",
    "These systems check about the product or movie which are in trend or are most popular among the users and directly \n",
    "recommend those.\n",
    "\n",
    "For example, if a product is often purchased by most people then the system will get to know that the product is \n",
    "most popular so for every new user who just signed it, the system will recommend such popular products to the user and \n",
    "chances are high that the new user will also purchase them. \n",
    "\n",
    "These type of recommendation systems does not provide personalized recommendations. It would recommend the same sort of products to all users, which are solely based upon popularity of the product."
   ]
  },
  {
   "cell_type": "markdown",
   "metadata": {},
   "source": [
    "## Import required libraries"
   ]
  },
  {
   "cell_type": "code",
   "execution_count": 1,
   "metadata": {},
   "outputs": [],
   "source": [
    "import pandas as pd\n",
    "import numpy as np\n",
    "import textwrap\n",
    "\n",
    "pd.options.display.max_colwidth = 100\n",
    "\n",
    "# Visualization libraries\n",
    "import matplotlib.pyplot as plt\n",
    "import seaborn as sns\n",
    "sns.set_palette(\"pastel\")\n",
    "sns.set_style(\"white\")\n",
    "sns.set_context(\"paper\", font_scale=1.35)\n",
    "%matplotlib inline\n",
    "\n",
    "import warnings\n",
    "warnings.filterwarnings('ignore')"
   ]
  },
  {
   "cell_type": "markdown",
   "metadata": {},
   "source": [
    "## Load the data"
   ]
  },
  {
   "cell_type": "code",
   "execution_count": 2,
   "metadata": {},
   "outputs": [
    {
     "data": {
      "text/html": [
       "<div>\n",
       "<style scoped>\n",
       "    .dataframe tbody tr th:only-of-type {\n",
       "        vertical-align: middle;\n",
       "    }\n",
       "\n",
       "    .dataframe tbody tr th {\n",
       "        vertical-align: top;\n",
       "    }\n",
       "\n",
       "    .dataframe thead th {\n",
       "        text-align: right;\n",
       "    }\n",
       "</style>\n",
       "<table border=\"1\" class=\"dataframe\">\n",
       "  <thead>\n",
       "    <tr style=\"text-align: right;\">\n",
       "      <th></th>\n",
       "      <th>rating</th>\n",
       "      <th>userId</th>\n",
       "      <th>itemId</th>\n",
       "      <th>userName</th>\n",
       "      <th>description</th>\n",
       "      <th>title</th>\n",
       "      <th>price</th>\n",
       "      <th>rating_count</th>\n",
       "      <th>rating_avg</th>\n",
       "    </tr>\n",
       "  </thead>\n",
       "  <tbody>\n",
       "    <tr>\n",
       "      <th>0</th>\n",
       "      <td>2.0</td>\n",
       "      <td>A1Q6MUU0B2ZDQG</td>\n",
       "      <td>B00004U9V2</td>\n",
       "      <td>D. Poston</td>\n",
       "      <td>['After a long day of handling thorny situations, our new hand therapy pump is just the help you...</td>\n",
       "      <td>Crabtree &amp; Evelyn - Gardener's Ultra-Moisturising Hand Therapy Pump - 250g/8.8 OZ</td>\n",
       "      <td>30.0</td>\n",
       "      <td>582</td>\n",
       "      <td>4.623711</td>\n",
       "    </tr>\n",
       "    <tr>\n",
       "      <th>1</th>\n",
       "      <td>5.0</td>\n",
       "      <td>A3HO2SQDCZIE9S</td>\n",
       "      <td>B00004U9V2</td>\n",
       "      <td>chandra</td>\n",
       "      <td>['After a long day of handling thorny situations, our new hand therapy pump is just the help you...</td>\n",
       "      <td>Crabtree &amp; Evelyn - Gardener's Ultra-Moisturising Hand Therapy Pump - 250g/8.8 OZ</td>\n",
       "      <td>30.0</td>\n",
       "      <td>582</td>\n",
       "      <td>4.623711</td>\n",
       "    </tr>\n",
       "    <tr>\n",
       "      <th>2</th>\n",
       "      <td>5.0</td>\n",
       "      <td>A2EM03F99X3RJZ</td>\n",
       "      <td>B00004U9V2</td>\n",
       "      <td>Maureen G</td>\n",
       "      <td>['After a long day of handling thorny situations, our new hand therapy pump is just the help you...</td>\n",
       "      <td>Crabtree &amp; Evelyn - Gardener's Ultra-Moisturising Hand Therapy Pump - 250g/8.8 OZ</td>\n",
       "      <td>30.0</td>\n",
       "      <td>582</td>\n",
       "      <td>4.623711</td>\n",
       "    </tr>\n",
       "    <tr>\n",
       "      <th>3</th>\n",
       "      <td>5.0</td>\n",
       "      <td>A3Z74TDRGD0HU</td>\n",
       "      <td>B00004U9V2</td>\n",
       "      <td>Terry K</td>\n",
       "      <td>['After a long day of handling thorny situations, our new hand therapy pump is just the help you...</td>\n",
       "      <td>Crabtree &amp; Evelyn - Gardener's Ultra-Moisturising Hand Therapy Pump - 250g/8.8 OZ</td>\n",
       "      <td>30.0</td>\n",
       "      <td>582</td>\n",
       "      <td>4.623711</td>\n",
       "    </tr>\n",
       "    <tr>\n",
       "      <th>4</th>\n",
       "      <td>5.0</td>\n",
       "      <td>A2UXFNW9RTL4VM</td>\n",
       "      <td>B00004U9V2</td>\n",
       "      <td>Patricia Wood</td>\n",
       "      <td>['After a long day of handling thorny situations, our new hand therapy pump is just the help you...</td>\n",
       "      <td>Crabtree &amp; Evelyn - Gardener's Ultra-Moisturising Hand Therapy Pump - 250g/8.8 OZ</td>\n",
       "      <td>30.0</td>\n",
       "      <td>582</td>\n",
       "      <td>4.623711</td>\n",
       "    </tr>\n",
       "  </tbody>\n",
       "</table>\n",
       "</div>"
      ],
      "text/plain": [
       "   rating          userId      itemId       userName  \\\n",
       "0     2.0  A1Q6MUU0B2ZDQG  B00004U9V2      D. Poston   \n",
       "1     5.0  A3HO2SQDCZIE9S  B00004U9V2        chandra   \n",
       "2     5.0  A2EM03F99X3RJZ  B00004U9V2      Maureen G   \n",
       "3     5.0   A3Z74TDRGD0HU  B00004U9V2        Terry K   \n",
       "4     5.0  A2UXFNW9RTL4VM  B00004U9V2  Patricia Wood   \n",
       "\n",
       "                                                                                           description  \\\n",
       "0  ['After a long day of handling thorny situations, our new hand therapy pump is just the help you...   \n",
       "1  ['After a long day of handling thorny situations, our new hand therapy pump is just the help you...   \n",
       "2  ['After a long day of handling thorny situations, our new hand therapy pump is just the help you...   \n",
       "3  ['After a long day of handling thorny situations, our new hand therapy pump is just the help you...   \n",
       "4  ['After a long day of handling thorny situations, our new hand therapy pump is just the help you...   \n",
       "\n",
       "                                                                               title  \\\n",
       "0  Crabtree & Evelyn - Gardener's Ultra-Moisturising Hand Therapy Pump - 250g/8.8 OZ   \n",
       "1  Crabtree & Evelyn - Gardener's Ultra-Moisturising Hand Therapy Pump - 250g/8.8 OZ   \n",
       "2  Crabtree & Evelyn - Gardener's Ultra-Moisturising Hand Therapy Pump - 250g/8.8 OZ   \n",
       "3  Crabtree & Evelyn - Gardener's Ultra-Moisturising Hand Therapy Pump - 250g/8.8 OZ   \n",
       "4  Crabtree & Evelyn - Gardener's Ultra-Moisturising Hand Therapy Pump - 250g/8.8 OZ   \n",
       "\n",
       "   price  rating_count  rating_avg  \n",
       "0   30.0           582    4.623711  \n",
       "1   30.0           582    4.623711  \n",
       "2   30.0           582    4.623711  \n",
       "3   30.0           582    4.623711  \n",
       "4   30.0           582    4.623711  "
      ]
     },
     "execution_count": 2,
     "metadata": {},
     "output_type": "execute_result"
    }
   ],
   "source": [
    "lb = pd.read_csv('luxury_beauty_cleaned.csv')\n",
    "lb.head()"
   ]
  },
  {
   "cell_type": "code",
   "execution_count": 3,
   "metadata": {},
   "outputs": [
    {
     "name": "stdout",
     "output_type": "stream",
     "text": [
      "No of unique users in the data :  342713\n",
      "No of unique products in the data :  6854\n"
     ]
    }
   ],
   "source": [
    "print(\"No of unique users in the data : \",lb['userId'].nunique())\n",
    "print(\"No of unique products in the data : \",lb['itemId'].nunique())"
   ]
  },
  {
   "cell_type": "code",
   "execution_count": 4,
   "metadata": {},
   "outputs": [],
   "source": [
    "# Let us subset the data with only itemId, title, rating_count \n",
    "# and rating_avg columns to build the popularity based recommender\n",
    "\n",
    "lb_products = lb[['itemId','title','rating_count','rating_avg']]\n",
    "lb_products.drop_duplicates(subset=['itemId'], inplace=True)"
   ]
  },
  {
   "cell_type": "markdown",
   "metadata": {},
   "source": [
    "## Calculate Weighted Average Score for Popularity"
   ]
  },
  {
   "cell_type": "code",
   "execution_count": 5,
   "metadata": {},
   "outputs": [],
   "source": [
    "# Using Bayes Weighted Average rating method to generate popularity score\n",
    "v = lb_products['rating_count']\n",
    "r = lb_products['rating_avg']\n",
    "C= lb_products['rating_avg'].mean()\n",
    "m= lb_products['rating_count'].quantile(0.90)"
   ]
  },
  {
   "cell_type": "code",
   "execution_count": 6,
   "metadata": {},
   "outputs": [],
   "source": [
    "q_lb = lb_products.loc[lb_products['rating_count'] >= m]"
   ]
  },
  {
   "cell_type": "code",
   "execution_count": 7,
   "metadata": {},
   "outputs": [
    {
     "data": {
      "text/plain": [
       "(687, 4)"
      ]
     },
     "execution_count": 7,
     "metadata": {},
     "output_type": "execute_result"
    }
   ],
   "source": [
    "q_lb.shape"
   ]
  },
  {
   "cell_type": "code",
   "execution_count": 8,
   "metadata": {},
   "outputs": [
    {
     "data": {
      "text/html": [
       "<div>\n",
       "<style scoped>\n",
       "    .dataframe tbody tr th:only-of-type {\n",
       "        vertical-align: middle;\n",
       "    }\n",
       "\n",
       "    .dataframe tbody tr th {\n",
       "        vertical-align: top;\n",
       "    }\n",
       "\n",
       "    .dataframe thead th {\n",
       "        text-align: right;\n",
       "    }\n",
       "</style>\n",
       "<table border=\"1\" class=\"dataframe\">\n",
       "  <thead>\n",
       "    <tr style=\"text-align: right;\">\n",
       "      <th></th>\n",
       "      <th>itemId</th>\n",
       "      <th>title</th>\n",
       "      <th>rating_count</th>\n",
       "      <th>rating_avg</th>\n",
       "    </tr>\n",
       "  </thead>\n",
       "  <tbody>\n",
       "    <tr>\n",
       "      <th>0</th>\n",
       "      <td>B00004U9V2</td>\n",
       "      <td>Crabtree &amp; Evelyn - Gardener's Ultra-Moisturising Hand Therapy Pump - 250g/8.8 OZ</td>\n",
       "      <td>582</td>\n",
       "      <td>4.623711</td>\n",
       "    </tr>\n",
       "    <tr>\n",
       "      <th>706</th>\n",
       "      <td>B00005V50B</td>\n",
       "      <td>Supersmile Professional Teeth Whitening Toothpaste  Recommended By Cosmetic Dentists, CLINICALLY...</td>\n",
       "      <td>558</td>\n",
       "      <td>4.177419</td>\n",
       "    </tr>\n",
       "    <tr>\n",
       "      <th>1264</th>\n",
       "      <td>B000066SYB</td>\n",
       "      <td>Archipelago Morning Mint Body Lotion ,18 Fl Oz</td>\n",
       "      <td>152</td>\n",
       "      <td>4.493421</td>\n",
       "    </tr>\n",
       "    <tr>\n",
       "      <th>1416</th>\n",
       "      <td>B000068DWY</td>\n",
       "      <td>Calvin Klein ck one Eau de Toilette, 3.4 fl. oz.</td>\n",
       "      <td>356</td>\n",
       "      <td>4.373596</td>\n",
       "    </tr>\n",
       "    <tr>\n",
       "      <th>1772</th>\n",
       "      <td>B00008WFSM</td>\n",
       "      <td>Helen of Troy 1193 Professional Flat Iron</td>\n",
       "      <td>211</td>\n",
       "      <td>3.990521</td>\n",
       "    </tr>\n",
       "  </tbody>\n",
       "</table>\n",
       "</div>"
      ],
      "text/plain": [
       "          itemId  \\\n",
       "0     B00004U9V2   \n",
       "706   B00005V50B   \n",
       "1264  B000066SYB   \n",
       "1416  B000068DWY   \n",
       "1772  B00008WFSM   \n",
       "\n",
       "                                                                                                    title  \\\n",
       "0                       Crabtree & Evelyn - Gardener's Ultra-Moisturising Hand Therapy Pump - 250g/8.8 OZ   \n",
       "706   Supersmile Professional Teeth Whitening Toothpaste  Recommended By Cosmetic Dentists, CLINICALLY...   \n",
       "1264                                                       Archipelago Morning Mint Body Lotion ,18 Fl Oz   \n",
       "1416                                                     Calvin Klein ck one Eau de Toilette, 3.4 fl. oz.   \n",
       "1772                                                            Helen of Troy 1193 Professional Flat Iron   \n",
       "\n",
       "      rating_count  rating_avg  \n",
       "0              582    4.623711  \n",
       "706            558    4.177419  \n",
       "1264           152    4.493421  \n",
       "1416           356    4.373596  \n",
       "1772           211    3.990521  "
      ]
     },
     "execution_count": 8,
     "metadata": {},
     "output_type": "execute_result"
    }
   ],
   "source": [
    "q_lb.head()"
   ]
  },
  {
   "cell_type": "code",
   "execution_count": 9,
   "metadata": {},
   "outputs": [],
   "source": [
    "def weighted_rating(x, v=v, R=r, m=m, C=C):\n",
    "    v = x['rating_count']\n",
    "    R = x['rating_avg']\n",
    "    return (v/(v+m) * R) + (m/(m+v) * C)"
   ]
  },
  {
   "cell_type": "code",
   "execution_count": 10,
   "metadata": {},
   "outputs": [],
   "source": [
    "q_lb['score'] = q_lb.apply(weighted_rating, axis=1)"
   ]
  },
  {
   "cell_type": "markdown",
   "metadata": {},
   "source": [
    "## Get the top 10 products with highest popularity score"
   ]
  },
  {
   "cell_type": "code",
   "execution_count": 11,
   "metadata": {},
   "outputs": [],
   "source": [
    "#Sorting products based on score calculated above\n",
    "top_10 = q_lb.sort_values('score', ascending=False).head(10)"
   ]
  },
  {
   "cell_type": "code",
   "execution_count": 12,
   "metadata": {},
   "outputs": [
    {
     "data": {
      "text/html": [
       "<div>\n",
       "<style scoped>\n",
       "    .dataframe tbody tr th:only-of-type {\n",
       "        vertical-align: middle;\n",
       "    }\n",
       "\n",
       "    .dataframe tbody tr th {\n",
       "        vertical-align: top;\n",
       "    }\n",
       "\n",
       "    .dataframe thead th {\n",
       "        text-align: right;\n",
       "    }\n",
       "</style>\n",
       "<table border=\"1\" class=\"dataframe\">\n",
       "  <thead>\n",
       "    <tr style=\"text-align: right;\">\n",
       "      <th></th>\n",
       "      <th>itemId</th>\n",
       "      <th>title</th>\n",
       "      <th>rating_count</th>\n",
       "      <th>rating_avg</th>\n",
       "      <th>score</th>\n",
       "    </tr>\n",
       "  </thead>\n",
       "  <tbody>\n",
       "    <tr>\n",
       "      <th>201606</th>\n",
       "      <td>B002A8JO1Q</td>\n",
       "      <td>MERKUR Classic 2-Piece Double Edge Saftey Razor</td>\n",
       "      <td>865</td>\n",
       "      <td>4.737572</td>\n",
       "      <td>4.658180</td>\n",
       "    </tr>\n",
       "    <tr>\n",
       "      <th>115882</th>\n",
       "      <td>B000ZOFUOC</td>\n",
       "      <td>Yu-Be: Japan’s secret for dry skin relief. Deep hydrating moisturizing cream for face, hand and ...</td>\n",
       "      <td>596</td>\n",
       "      <td>4.716443</td>\n",
       "      <td>4.611865</td>\n",
       "    </tr>\n",
       "    <tr>\n",
       "      <th>111146</th>\n",
       "      <td>B000YBNL2Y</td>\n",
       "      <td>Jane Iredale PurePressed Base</td>\n",
       "      <td>1730</td>\n",
       "      <td>4.641618</td>\n",
       "      <td>4.606051</td>\n",
       "    </tr>\n",
       "    <tr>\n",
       "      <th>28994</th>\n",
       "      <td>B0007M11XQ</td>\n",
       "      <td>Proraso Shaving Cream, Refreshing and Toning, 5.2 oz</td>\n",
       "      <td>1957</td>\n",
       "      <td>4.619315</td>\n",
       "      <td>4.589062</td>\n",
       "    </tr>\n",
       "    <tr>\n",
       "      <th>147288</th>\n",
       "      <td>B00175YVNO</td>\n",
       "      <td>ELEMIS Pro-Collagen Marine Cream, Anti-wrinkle Day Cream, 1.6 fl. oz.</td>\n",
       "      <td>562</td>\n",
       "      <td>4.690391</td>\n",
       "      <td>4.585832</td>\n",
       "    </tr>\n",
       "    <tr>\n",
       "      <th>230236</th>\n",
       "      <td>B00396OTJ0</td>\n",
       "      <td>EltaMD UV Facial Sunscreen Broad-Spectrum SPF 30+, 4.0 oz</td>\n",
       "      <td>479</td>\n",
       "      <td>4.703549</td>\n",
       "      <td>4.581975</td>\n",
       "    </tr>\n",
       "    <tr>\n",
       "      <th>173740</th>\n",
       "      <td>B001G60E3K</td>\n",
       "      <td>L'Occitane Extra-Gentle Vegetable Based Soap Enriched with Shea Butter</td>\n",
       "      <td>702</td>\n",
       "      <td>4.660969</td>\n",
       "      <td>4.578661</td>\n",
       "    </tr>\n",
       "    <tr>\n",
       "      <th>298929</th>\n",
       "      <td>B00837YY18</td>\n",
       "      <td>Proraso Shaving Soap in a Bowl, Refreshing and Toning, 5.2 oz</td>\n",
       "      <td>2532</td>\n",
       "      <td>4.599526</td>\n",
       "      <td>4.576807</td>\n",
       "    </tr>\n",
       "    <tr>\n",
       "      <th>22817</th>\n",
       "      <td>B0006O4M8Q</td>\n",
       "      <td>JACK BLACK – Industrial Strength Hand Healer – Hard Working Hand Cream, PureScience Formula, Non...</td>\n",
       "      <td>481</td>\n",
       "      <td>4.681913</td>\n",
       "      <td>4.565529</td>\n",
       "    </tr>\n",
       "    <tr>\n",
       "      <th>183074</th>\n",
       "      <td>B001MF3FMW</td>\n",
       "      <td>Proraso Shaving Soap in a Bowl, Sensitive Skin, 5.2 oz</td>\n",
       "      <td>1270</td>\n",
       "      <td>4.600787</td>\n",
       "      <td>4.557567</td>\n",
       "    </tr>\n",
       "  </tbody>\n",
       "</table>\n",
       "</div>"
      ],
      "text/plain": [
       "            itemId  \\\n",
       "201606  B002A8JO1Q   \n",
       "115882  B000ZOFUOC   \n",
       "111146  B000YBNL2Y   \n",
       "28994   B0007M11XQ   \n",
       "147288  B00175YVNO   \n",
       "230236  B00396OTJ0   \n",
       "173740  B001G60E3K   \n",
       "298929  B00837YY18   \n",
       "22817   B0006O4M8Q   \n",
       "183074  B001MF3FMW   \n",
       "\n",
       "                                                                                                      title  \\\n",
       "201606                                                      MERKUR Classic 2-Piece Double Edge Saftey Razor   \n",
       "115882  Yu-Be: Japan’s secret for dry skin relief. Deep hydrating moisturizing cream for face, hand and ...   \n",
       "111146                                                                        Jane Iredale PurePressed Base   \n",
       "28994                                                  Proraso Shaving Cream, Refreshing and Toning, 5.2 oz   \n",
       "147288                                ELEMIS Pro-Collagen Marine Cream, Anti-wrinkle Day Cream, 1.6 fl. oz.   \n",
       "230236                                            EltaMD UV Facial Sunscreen Broad-Spectrum SPF 30+, 4.0 oz   \n",
       "173740                               L'Occitane Extra-Gentle Vegetable Based Soap Enriched with Shea Butter   \n",
       "298929                                        Proraso Shaving Soap in a Bowl, Refreshing and Toning, 5.2 oz   \n",
       "22817   JACK BLACK – Industrial Strength Hand Healer – Hard Working Hand Cream, PureScience Formula, Non...   \n",
       "183074                                               Proraso Shaving Soap in a Bowl, Sensitive Skin, 5.2 oz   \n",
       "\n",
       "        rating_count  rating_avg     score  \n",
       "201606           865    4.737572  4.658180  \n",
       "115882           596    4.716443  4.611865  \n",
       "111146          1730    4.641618  4.606051  \n",
       "28994           1957    4.619315  4.589062  \n",
       "147288           562    4.690391  4.585832  \n",
       "230236           479    4.703549  4.581975  \n",
       "173740           702    4.660969  4.578661  \n",
       "298929          2532    4.599526  4.576807  \n",
       "22817            481    4.681913  4.565529  \n",
       "183074          1270    4.600787  4.557567  "
      ]
     },
     "execution_count": 12,
     "metadata": {},
     "output_type": "execute_result"
    }
   ],
   "source": [
    "top_10"
   ]
  },
  {
   "cell_type": "code",
   "execution_count": 13,
   "metadata": {},
   "outputs": [
    {
     "data": {
      "text/plain": [
       "[Text(0, 0, 'MERKUR Classic 2-Piece Double Edge Saftey Razor'),\n",
       " Text(0, 0, 'Yu-Be: Japan’s secret for dry skin relief. Deep\\nhydrating moisturizing cream for face, hand and\\nbody. Fast acting & non-greasy. No artificial\\ncolors or fragrances. Jar, 2.2 Fl Oz'),\n",
       " Text(0, 0, 'Jane Iredale PurePressed Base'),\n",
       " Text(0, 0, 'Proraso Shaving Cream, Refreshing and Toning, 5.2\\noz'),\n",
       " Text(0, 0, 'ELEMIS Pro-Collagen Marine Cream, Anti-wrinkle Day\\nCream, 1.6 fl. oz.'),\n",
       " Text(0, 0, 'EltaMD UV Facial Sunscreen Broad-Spectrum SPF 30+,\\n4.0 oz'),\n",
       " Text(0, 0, \"L'Occitane Extra-Gentle Vegetable Based Soap\\nEnriched with Shea Butter\"),\n",
       " Text(0, 0, 'Proraso Shaving Soap in a Bowl, Refreshing and\\nToning, 5.2 oz'),\n",
       " Text(0, 0, 'JACK BLACK – Industrial Strength Hand Healer –\\nHard Working Hand Cream, PureScience Formula, Non-\\nGreasy, Soothe Dry and Chapped Hands, Vitamin A\\nand E, Macadamia Nut Oil, 3 and 16 oz.'),\n",
       " Text(0, 0, 'Proraso Shaving Soap in a Bowl, Sensitive Skin,\\n5.2 oz')]"
      ]
     },
     "execution_count": 13,
     "metadata": {},
     "output_type": "execute_result"
    },
    {
     "data": {
      "image/png": "[encoded data removed]",
      "text/plain": [
       "<Figure size 864x432 with 1 Axes>"
      ]
     },
     "metadata": {
      "needs_background": "light"
     },
     "output_type": "display_data"
    }
   ],
   "source": [
    "fig, ax = plt.subplots(figsize=(12, 6))\n",
    "ax.set(ylim=(4.4, 4.70))\n",
    "ax.set_title('Top 10 most popular products')\n",
    "ax.tick_params(axis='x', rotation=90) \n",
    "sns.barplot(y='score', x=\"title\", data=top_10).set(ylabel='Popularity Score', xlabel='Product')\n",
    "#ax.set_xticklabels(x.get_text()[0:70] for x in ax.get_xticklabels())\n",
    "ax.set_xticklabels(textwrap.fill(x.get_text(), 50) for x in ax.get_xticklabels())"
   ]
  }
 ],
 "metadata": {
  "kernelspec": {
   "display_name": "Python 3",
   "language": "python",
   "name": "python3"
  },
  "language_info": {
   "codemirror_mode": {
    "name": "ipython",
    "version": 3
   },
   "file_extension": ".py",
   "mimetype": "text/x-python",
   "name": "python",
   "nbconvert_exporter": "python",
   "pygments_lexer": "ipython3",
   "version": "3.8.3"
  }
 },
 "nbformat": 4,
 "nbformat_minor": 4
}
