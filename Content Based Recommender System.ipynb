{
 "cells": [
  {
   "cell_type": "markdown",
   "metadata": {},
   "source": [
    "# Content Based Recommender System\n",
    "\n",
    "This is a simple approach of recommending items based on the attributes of the item itself. For example, \n",
    "if we know that someone enjoys watching movies of a particular genre, we would try to recommned the person \n",
    "other movies of the same genre. \n",
    "\n",
    "In this case we will look at the product description of the items that a user has already purchased, and\n",
    "recommend items that are similar to the item already purchased.\n",
    "\n",
    "One of the most prominent advantage of this system is that, it does not require a big user base to recommend items. This way it avoids the 'cold start' problem. Since content can be present in varied form, they open up the options to use different approaches like: text processing techniques, the use of semantic information etc.\n"
   ]
  },
  {
   "cell_type": "markdown",
   "metadata": {},
   "source": [
    "## Import required libraries"
   ]
  },
  {
   "cell_type": "code",
   "execution_count": 1,
   "metadata": {},
   "outputs": [],
   "source": [
    "import pandas as pd\n",
    "import numpy as np\n",
    "\n",
    "pd.options.display.max_colwidth = 100\n",
    "\n",
    "# Visualization libraries\n",
    "import matplotlib.pyplot as plt\n",
    "import seaborn as sns\n",
    "sns.set_palette(\"pastel\")\n",
    "sns.set_style(\"white\")\n",
    "sns.set_context(\"paper\", font_scale=1.35)\n",
    "%matplotlib inline\n",
    "\n",
    "#Importing TfIdfVectorizer from scikit-learn\n",
    "from sklearn.feature_extraction.text import TfidfVectorizer\n",
    "\n",
    "from sklearn.metrics.pairwise import linear_kernel\n",
    "\n",
    "import warnings\n",
    "warnings.filterwarnings('ignore')"
   ]
  },
  {
   "cell_type": "markdown",
   "metadata": {},
   "source": [
    "## Read the data file into a pandas dataframe"
   ]
  },
  {
   "cell_type": "code",
   "execution_count": 2,
   "metadata": {},
   "outputs": [
    {
     "data": {
      "text/html": [
       "<div>\n",
       "<style scoped>\n",
       "    .dataframe tbody tr th:only-of-type {\n",
       "        vertical-align: middle;\n",
       "    }\n",
       "\n",
       "    .dataframe tbody tr th {\n",
       "        vertical-align: top;\n",
       "    }\n",
       "\n",
       "    .dataframe thead th {\n",
       "        text-align: right;\n",
       "    }\n",
       "</style>\n",
       "<table border=\"1\" class=\"dataframe\">\n",
       "  <thead>\n",
       "    <tr style=\"text-align: right;\">\n",
       "      <th></th>\n",
       "      <th>rating</th>\n",
       "      <th>userId</th>\n",
       "      <th>itemId</th>\n",
       "      <th>userName</th>\n",
       "      <th>description</th>\n",
       "      <th>title</th>\n",
       "      <th>price</th>\n",
       "      <th>rating_count</th>\n",
       "      <th>rating_avg</th>\n",
       "    </tr>\n",
       "  </thead>\n",
       "  <tbody>\n",
       "    <tr>\n",
       "      <th>0</th>\n",
       "      <td>2.0</td>\n",
       "      <td>A1Q6MUU0B2ZDQG</td>\n",
       "      <td>B00004U9V2</td>\n",
       "      <td>D. Poston</td>\n",
       "      <td>['After a long day of handling thorny situations, our new hand therapy pump is just the help you...</td>\n",
       "      <td>Crabtree &amp; Evelyn - Gardener's Ultra-Moisturising Hand Therapy Pump - 250g/8.8 OZ</td>\n",
       "      <td>30.0</td>\n",
       "      <td>582</td>\n",
       "      <td>4.623711</td>\n",
       "    </tr>\n",
       "    <tr>\n",
       "      <th>1</th>\n",
       "      <td>5.0</td>\n",
       "      <td>A3HO2SQDCZIE9S</td>\n",
       "      <td>B00004U9V2</td>\n",
       "      <td>chandra</td>\n",
       "      <td>['After a long day of handling thorny situations, our new hand therapy pump is just the help you...</td>\n",
       "      <td>Crabtree &amp; Evelyn - Gardener's Ultra-Moisturising Hand Therapy Pump - 250g/8.8 OZ</td>\n",
       "      <td>30.0</td>\n",
       "      <td>582</td>\n",
       "      <td>4.623711</td>\n",
       "    </tr>\n",
       "    <tr>\n",
       "      <th>2</th>\n",
       "      <td>5.0</td>\n",
       "      <td>A2EM03F99X3RJZ</td>\n",
       "      <td>B00004U9V2</td>\n",
       "      <td>Maureen G</td>\n",
       "      <td>['After a long day of handling thorny situations, our new hand therapy pump is just the help you...</td>\n",
       "      <td>Crabtree &amp; Evelyn - Gardener's Ultra-Moisturising Hand Therapy Pump - 250g/8.8 OZ</td>\n",
       "      <td>30.0</td>\n",
       "      <td>582</td>\n",
       "      <td>4.623711</td>\n",
       "    </tr>\n",
       "    <tr>\n",
       "      <th>3</th>\n",
       "      <td>5.0</td>\n",
       "      <td>A3Z74TDRGD0HU</td>\n",
       "      <td>B00004U9V2</td>\n",
       "      <td>Terry K</td>\n",
       "      <td>['After a long day of handling thorny situations, our new hand therapy pump is just the help you...</td>\n",
       "      <td>Crabtree &amp; Evelyn - Gardener's Ultra-Moisturising Hand Therapy Pump - 250g/8.8 OZ</td>\n",
       "      <td>30.0</td>\n",
       "      <td>582</td>\n",
       "      <td>4.623711</td>\n",
       "    </tr>\n",
       "    <tr>\n",
       "      <th>4</th>\n",
       "      <td>5.0</td>\n",
       "      <td>A2UXFNW9RTL4VM</td>\n",
       "      <td>B00004U9V2</td>\n",
       "      <td>Patricia Wood</td>\n",
       "      <td>['After a long day of handling thorny situations, our new hand therapy pump is just the help you...</td>\n",
       "      <td>Crabtree &amp; Evelyn - Gardener's Ultra-Moisturising Hand Therapy Pump - 250g/8.8 OZ</td>\n",
       "      <td>30.0</td>\n",
       "      <td>582</td>\n",
       "      <td>4.623711</td>\n",
       "    </tr>\n",
       "  </tbody>\n",
       "</table>\n",
       "</div>"
      ],
      "text/plain": [
       "   rating          userId      itemId       userName  \\\n",
       "0     2.0  A1Q6MUU0B2ZDQG  B00004U9V2      D. Poston   \n",
       "1     5.0  A3HO2SQDCZIE9S  B00004U9V2        chandra   \n",
       "2     5.0  A2EM03F99X3RJZ  B00004U9V2      Maureen G   \n",
       "3     5.0   A3Z74TDRGD0HU  B00004U9V2        Terry K   \n",
       "4     5.0  A2UXFNW9RTL4VM  B00004U9V2  Patricia Wood   \n",
       "\n",
       "                                                                                           description  \\\n",
       "0  ['After a long day of handling thorny situations, our new hand therapy pump is just the help you...   \n",
       "1  ['After a long day of handling thorny situations, our new hand therapy pump is just the help you...   \n",
       "2  ['After a long day of handling thorny situations, our new hand therapy pump is just the help you...   \n",
       "3  ['After a long day of handling thorny situations, our new hand therapy pump is just the help you...   \n",
       "4  ['After a long day of handling thorny situations, our new hand therapy pump is just the help you...   \n",
       "\n",
       "                                                                               title  \\\n",
       "0  Crabtree & Evelyn - Gardener's Ultra-Moisturising Hand Therapy Pump - 250g/8.8 OZ   \n",
       "1  Crabtree & Evelyn - Gardener's Ultra-Moisturising Hand Therapy Pump - 250g/8.8 OZ   \n",
       "2  Crabtree & Evelyn - Gardener's Ultra-Moisturising Hand Therapy Pump - 250g/8.8 OZ   \n",
       "3  Crabtree & Evelyn - Gardener's Ultra-Moisturising Hand Therapy Pump - 250g/8.8 OZ   \n",
       "4  Crabtree & Evelyn - Gardener's Ultra-Moisturising Hand Therapy Pump - 250g/8.8 OZ   \n",
       "\n",
       "   price  rating_count  rating_avg  \n",
       "0   30.0           582    4.623711  \n",
       "1   30.0           582    4.623711  \n",
       "2   30.0           582    4.623711  \n",
       "3   30.0           582    4.623711  \n",
       "4   30.0           582    4.623711  "
      ]
     },
     "execution_count": 2,
     "metadata": {},
     "output_type": "execute_result"
    }
   ],
   "source": [
    "lb = pd.read_csv('luxury_beauty_cleaned.csv')\n",
    "lb.head()"
   ]
  },
  {
   "cell_type": "code",
   "execution_count": 3,
   "metadata": {},
   "outputs": [
    {
     "name": "stdout",
     "output_type": "stream",
     "text": [
      "No of unique users in the data :  342713\n",
      "No of unique products in the data :  6854\n"
     ]
    }
   ],
   "source": [
    "print(\"No of unique users in the data : \",lb['userId'].nunique())\n",
    "print(\"No of unique products in the data : \",lb['itemId'].nunique())"
   ]
  },
  {
   "cell_type": "code",
   "execution_count": 4,
   "metadata": {},
   "outputs": [
    {
     "data": {
      "text/html": [
       "<div>\n",
       "<style scoped>\n",
       "    .dataframe tbody tr th:only-of-type {\n",
       "        vertical-align: middle;\n",
       "    }\n",
       "\n",
       "    .dataframe tbody tr th {\n",
       "        vertical-align: top;\n",
       "    }\n",
       "\n",
       "    .dataframe thead th {\n",
       "        text-align: right;\n",
       "    }\n",
       "</style>\n",
       "<table border=\"1\" class=\"dataframe\">\n",
       "  <thead>\n",
       "    <tr style=\"text-align: right;\">\n",
       "      <th></th>\n",
       "      <th>itemId</th>\n",
       "      <th>description</th>\n",
       "      <th>title</th>\n",
       "    </tr>\n",
       "  </thead>\n",
       "  <tbody>\n",
       "    <tr>\n",
       "      <th>0</th>\n",
       "      <td>B00004U9V2</td>\n",
       "      <td>['After a long day of handling thorny situations, our new hand therapy pump is just the help you...</td>\n",
       "      <td>Crabtree &amp; Evelyn - Gardener's Ultra-Moisturising Hand Therapy Pump - 250g/8.8 OZ</td>\n",
       "    </tr>\n",
       "    <tr>\n",
       "      <th>1</th>\n",
       "      <td>B00005A77F</td>\n",
       "      <td>['This liquid soap with convenient pump dispenser is formulated with conditioning extracts of sa...</td>\n",
       "      <td>Crabtree &amp; Evelyn Hand Soap, Gardeners, 10.1 fl. oz.</td>\n",
       "    </tr>\n",
       "    <tr>\n",
       "      <th>2</th>\n",
       "      <td>B00005NDTD</td>\n",
       "      <td>[\"Remember why you love your favorite blanket? The soft, comforting feeling of wrapping it aroun...</td>\n",
       "      <td>Soy Milk Hand Crme</td>\n",
       "    </tr>\n",
       "    <tr>\n",
       "      <th>3</th>\n",
       "      <td>B00005V50C</td>\n",
       "      <td>['&lt;P&gt;&lt;STRONG&gt;Please note: Due to product improvements, the image shown may temporarily appear di...</td>\n",
       "      <td>Supersmile Powdered Mouthrinse</td>\n",
       "    </tr>\n",
       "    <tr>\n",
       "      <th>4</th>\n",
       "      <td>B00005V50B</td>\n",
       "      <td>['Created by Dr. Irwin Smigel, world-renowned \"Father of Aesthetic Dentistry\". Contains the unpr...</td>\n",
       "      <td>Supersmile Professional Teeth Whitening Toothpaste  Recommended By Cosmetic Dentists, CLINICALLY...</td>\n",
       "    </tr>\n",
       "  </tbody>\n",
       "</table>\n",
       "</div>"
      ],
      "text/plain": [
       "       itemId  \\\n",
       "0  B00004U9V2   \n",
       "1  B00005A77F   \n",
       "2  B00005NDTD   \n",
       "3  B00005V50C   \n",
       "4  B00005V50B   \n",
       "\n",
       "                                                                                           description  \\\n",
       "0  ['After a long day of handling thorny situations, our new hand therapy pump is just the help you...   \n",
       "1  ['This liquid soap with convenient pump dispenser is formulated with conditioning extracts of sa...   \n",
       "2  [\"Remember why you love your favorite blanket? The soft, comforting feeling of wrapping it aroun...   \n",
       "3  ['<P><STRONG>Please note: Due to product improvements, the image shown may temporarily appear di...   \n",
       "4  ['Created by Dr. Irwin Smigel, world-renowned \"Father of Aesthetic Dentistry\". Contains the unpr...   \n",
       "\n",
       "                                                                                                 title  \n",
       "0                    Crabtree & Evelyn - Gardener's Ultra-Moisturising Hand Therapy Pump - 250g/8.8 OZ  \n",
       "1                                                 Crabtree & Evelyn Hand Soap, Gardeners, 10.1 fl. oz.  \n",
       "2                                                                                   Soy Milk Hand Crme  \n",
       "3                                                                       Supersmile Powdered Mouthrinse  \n",
       "4  Supersmile Professional Teeth Whitening Toothpaste  Recommended By Cosmetic Dentists, CLINICALLY...  "
      ]
     },
     "execution_count": 4,
     "metadata": {},
     "output_type": "execute_result"
    }
   ],
   "source": [
    "# we will create a dataframe of unique products, their descriptions and title\n",
    "# this dataframe will be used to build the content based recommender\n",
    "\n",
    "lb_products = lb[['itemId', 'description', 'title']]\n",
    "lb_products.drop_duplicates(subset=['itemId'], inplace=True)\n",
    "lb_products.drop_duplicates(subset=['title'], inplace=True)\n",
    "lb_products.reset_index(inplace = True)\n",
    "\n",
    "lb_products.drop(columns=['index'], inplace=True)\n",
    "\n",
    "lb_products.head()"
   ]
  },
  {
   "cell_type": "markdown",
   "metadata": {},
   "source": [
    "# Build content based product recommender using product descriptions"
   ]
  },
  {
   "cell_type": "code",
   "execution_count": 5,
   "metadata": {},
   "outputs": [],
   "source": [
    "#Defining a TF-IDF Vectorizer Object. Remove all english stop words such as 'the', 'a'\n",
    "tfidf = TfidfVectorizer(min_df=3,  max_features=None, \n",
    "            strip_accents='unicode', analyzer='word',token_pattern=r'\\w{1,}',\n",
    "            ngram_range=(1, 3),\n",
    "            stop_words = 'english')\n",
    "\n",
    "#Replacing NaN with an empty string\n",
    "lb['description'] = lb_products['description'].fillna('')"
   ]
  },
  {
   "cell_type": "code",
   "execution_count": 6,
   "metadata": {},
   "outputs": [],
   "source": [
    "#Constructing the required TF-IDF matrix by fitting and transforming the data\n",
    "tfidf_matrix = tfidf.fit_transform(lb_products['description'])"
   ]
  },
  {
   "cell_type": "code",
   "execution_count": 7,
   "metadata": {},
   "outputs": [
    {
     "data": {
      "text/plain": [
       "(6575, 78926)"
      ]
     },
     "execution_count": 7,
     "metadata": {},
     "output_type": "execute_result"
    }
   ],
   "source": [
    "tfidf_matrix.shape\n",
    "\n",
    "# There are 78928 unique words in the product descriptions"
   ]
  },
  {
   "cell_type": "code",
   "execution_count": 8,
   "metadata": {},
   "outputs": [],
   "source": [
    "# Compute the sigmoid kernel\n",
    "lin = linear_kernel(tfidf_matrix, tfidf_matrix)"
   ]
  },
  {
   "cell_type": "code",
   "execution_count": 9,
   "metadata": {},
   "outputs": [
    {
     "data": {
      "text/plain": [
       "array([1.        , 0.65599221, 0.02758466, ..., 0.0028182 , 0.00474063,\n",
       "       0.0030886 ])"
      ]
     },
     "execution_count": 9,
     "metadata": {},
     "output_type": "execute_result"
    }
   ],
   "source": [
    "lin[0]"
   ]
  },
  {
   "cell_type": "code",
   "execution_count": 10,
   "metadata": {},
   "outputs": [],
   "source": [
    "# Reverse mapping of indices and product titles\n",
    "indices = pd.Series(lb_products.index, index=lb_products['title']).drop_duplicates()"
   ]
  },
  {
   "cell_type": "code",
   "execution_count": 11,
   "metadata": {},
   "outputs": [
    {
     "data": {
      "text/plain": [
       "title\n",
       "Crabtree & Evelyn - Gardener's Ultra-Moisturising Hand Therapy Pump - 250g/8.8 OZ                       0\n",
       "Crabtree & Evelyn Hand Soap, Gardeners, 10.1 fl. oz.                                                    1\n",
       "Soy Milk Hand Crme                                                                                      2\n",
       "Supersmile Powdered Mouthrinse                                                                          3\n",
       "Supersmile Professional Teeth Whitening Toothpaste  Recommended By Cosmetic Dentists, CLINICALLY...     4\n",
       "Archipelago Morning Mint Body Lotion ,18 Fl Oz                                                          5\n",
       "Calvin Klein ck one Eau de Toilette, 3.4 fl. oz.                                                        6\n",
       "Helen of Troy 1193 Professional Flat Iron                                                               7\n",
       "DERMAdoctor Calm, Cool & Corrected anti-redness tranquility cream - 1.7 Oz                              8\n",
       "HOT TOOLS Professional 24K Gold Marcel Iron/Wand for Long Lasting Results                               9\n",
       "OPI Nail Lacquer, Not So Bora-Bora-ing Pink, 0.5 Fl Oz                                                 10\n",
       "Paul Mitchell Shampoo One                                                                              11\n",
       "OPI Nail Lacquer, She's a Bad Muffuletta!, 0.5 Fl Oz                                                   12\n",
       "Paul Mitchell Extra-Body Sculpting Gel                                                                 13\n",
       "OPI Nail Lacquer Top Coat                                                                              14\n",
       "OPI Iceland Nail Lacquer Collection                                                                    15\n",
       "Dermablend Cover Creme Full Coverage Foundation with SPF 30, 1 Oz                                      16\n",
       "jane iredale Lip Pencil                                                                                17\n",
       "jane iredale PurePressed Eye Shadow                                                                    18\n",
       "Glytone Rejuvenating Mask, 3 oz.                                                                       19\n",
       "dtype: int64"
      ]
     },
     "execution_count": 11,
     "metadata": {},
     "output_type": "execute_result"
    }
   ],
   "source": [
    "indices.head(20)"
   ]
  },
  {
   "cell_type": "code",
   "execution_count": 12,
   "metadata": {},
   "outputs": [],
   "source": [
    "# This function will give a list of top 10 similar products base on product description\n",
    "# The function takes in product title as input parameter\n",
    "\n",
    "def give_rec(title, lin=lin):\n",
    "    \n",
    "    # Get the index corresponding to title\n",
    "    idx = indices[title]\n",
    "\n",
    "    # Get the pairwsie similarity scores \n",
    "    lin_scores = list(enumerate(lin[idx]))\n",
    "\n",
    "    # Sort the products \n",
    "    lin_scores = sorted(lin_scores, key=lambda x: x[1], reverse=True)\n",
    "\n",
    "    # Scores of the 10 most similar products\n",
    "    lin_scores = lin_scores[1:11]\n",
    "\n",
    "    # Movie indices\n",
    "    product_indices = [i[0] for i in lin_scores]\n",
    "\n",
    "    # Top 10 most similar products\n",
    "    return lb_products['title'].iloc[product_indices].to_list()"
   ]
  },
  {
   "cell_type": "code",
   "execution_count": 13,
   "metadata": {},
   "outputs": [],
   "source": [
    "def getListofRatedItems(userId):\n",
    "    a = lb[lb['userId']==userId][['title']].to_dict('list')\n",
    "    return a['title']"
   ]
  },
  {
   "cell_type": "code",
   "execution_count": 14,
   "metadata": {},
   "outputs": [],
   "source": [
    "def getRecforUser(userId):\n",
    "    print(\"Getting recommendations for user {}....\\n\".format(userId))\n",
    "    \n",
    "    # get the list of itemids rated by the user\n",
    "    item_list = getListofRatedItems(userId)\n",
    "    \n",
    "    # call give_rec function for each product in item_list\n",
    "    for item in item_list:\n",
    "        print(\"Products similar to '{}' are ....\\n\".format(item))\n",
    "        for sim_item in give_rec(item):\n",
    "            print(sim_item)\n",
    "        print('\\n')"
   ]
  },
  {
   "cell_type": "markdown",
   "metadata": {},
   "source": [
    "## Evaluating the recommender system"
   ]
  },
  {
   "cell_type": "code",
   "execution_count": 15,
   "metadata": {},
   "outputs": [
    {
     "name": "stdout",
     "output_type": "stream",
     "text": [
      "Getting recommendations for user A15KL7ZPB6SJ16....\n",
      "\n",
      "Products similar to 'Helen of Troy 1193 Professional Flat Iron' are ....\n",
      "\n",
      "Hot Tools Professional Nano Ceramic Flipperless Curling Wand for Shiny Curls, 1 ¼ Inch\n",
      "Hot Tools Professional Ceramic + Tourmaline Marcel Iron/Wand, ¾ Inches\n",
      "Hot Tools Micro Crimper, 1 Inch\n",
      "HOT TOOLS Spring Curling Iron, Black/White\n",
      "Hot Tools Professional Nano Ceramic Bubble Curling Wand for Beachy Waves, 1¼ Inches\n",
      "HOT TOOLS PINKTITANIUM Salon Titanium Curling Iron\n",
      "HOT TOOLS HOT TOOLS PINKTITANIUM Salon Titanium Curling Iron\n",
      "Hot Tools Professional Ceramic + Tourmaline Curling Iron/Wand for Healthy Looking Curls, 2 Inches\n",
      "Hot Tools HTG1860 Flipperless Curling Wand, Gold/Black\n",
      "HOT TOOLS Professional Silicone Bristle Hot Brush Styler for Added Volume, 1 Inch\n",
      "\n",
      "\n"
     ]
    }
   ],
   "source": [
    "getRecforUser('A15KL7ZPB6SJ16')"
   ]
  },
  {
   "cell_type": "code",
   "execution_count": 17,
   "metadata": {},
   "outputs": [
    {
     "name": "stdout",
     "output_type": "stream",
     "text": [
      "Getting recommendations for user A1SLHI58I09T1K....\n",
      "\n",
      "Products similar to 'Dermablend Cover Creme Full Coverage Foundation with SPF 30, 1 Oz' are ....\n",
      "\n",
      "Dermablend Quick-Fix Full Coverage Concealer, 0.16 Oz.\n",
      "Dermablend Quick-Fix Body Makeup Full Coverage Foundation Stick, 0.42 Oz.\n",
      "Dermablend Smooth Liquid Concealer\n",
      "Dermablend Smooth Liquid Foundation with SPF 25, 1 Fl. Oz.\n",
      "Dermablend Intense Powder High Coverage Foundation\n",
      "Dermablend Loose Setting Powder\n",
      "Dermablend Makeup Setting Spray Set + Refresh for Long Lasting Makeup Wear, 3.4 Fl. Oz.\n",
      "37 Actives High Performance Anti-Aging Treatment Foundation, 1.0 Fl Oz\n",
      "Glo Skin Beauty Oil Free Camouflage\n",
      "La Roche-Posay Effaclar BB Blur with SPF 20, 1.01 Fl. Oz.\n",
      "\n",
      "\n",
      "Products similar to 'Vichy Pureté Thermale One Step Micellar Cleansing Water' are ....\n",
      "\n",
      "Vichy Homme Hydra Mag C Body Wash & Hair Shower Gel, 6.76 Fl. Oz.\n",
      "Vichy Dermafinish Corrective Full Coverage Concealer Stick, 14 Hour Color Wear, 0.16 Oz.\n",
      "Vichy Mineralizing Thermal Water Rich in 15 Minerals, 10.1 Fl. Oz\n",
      "Vichy Normaderm Micellar Cleansing Water, 6.76 Fl. Oz.\n",
      "Erno Laszlo Timeless Skin Serum, 1.7 fl. oz.\n",
      "Vichy Dermafinish Liquid Foundation with SPF 30, 4 Shades\n",
      "Erno Laszlo Firmarine Moisturizer SPF 30, 1.7 Fl Oz\n",
      "Sultra The Airlight Hair Dryer, Black\n",
      "La Roche-Posay Respectissime Waterproof Eye Makeup Remover, 4.2 Fl Oz, Pack of 1\n",
      "Pureology Colour Fanatic Instant Deep-Conditioning Mask\n",
      "\n",
      "\n",
      "Products similar to 'Nia 24 Eye Repair Complex, 0.5 fl. oz.' are ....\n",
      "\n",
      "Nia 24 Skin Strengthening Complex, 1.7 fl. oz.\n",
      "Nia 24 Rapid Depigmentation Serum, 1 fl. oz.\n",
      "Nia 24 Physical Cleansing Scrub, 3.75 fl. oz.\n",
      "Verso Skincare Super Eye Serum, 1.01 fl. oz.\n",
      "DDF Nourishing Eye Cream, 0.5 Oz\n",
      "VINCENT LONGO Perfect Canvas Liquid Concealer\n",
      "BeautyRx by Dr. Schultz Gentle Exfoliating Eye Cream, 0.5 fl. oz.\n",
      "DDF Erase Eye Gel, 0.5 Oz\n",
      "Nia 24 Sun Damage Repair for Décolletage and Hands, 5 fl. oz.\n",
      "PÜR Tone Up Eye Serum.5 Fluid Ounce\n",
      "\n",
      "\n",
      "Products similar to 'RevitaLash Cosmetics, RevitaLash Advanced Eyelash Conditioner' are ....\n",
      "\n",
      "Xtreme Lashes Amplifeye System\n",
      "blinc Long Lash\n",
      "Xtreme Lashes Amplifeye Lash, Brow & Hair Formula\n",
      "ORLANE PARIS Volume Care Mascara\n",
      "blinc Lash Primer\n",
      "LashFood Conditioning Collagen Fiber Primer, White, 0.27 fl. oz.\n",
      "Gorgeous Cosmetics False Lashes, Fake Eyelashes\n",
      "Grande Cosmetics GrandeLASH-MD\n",
      "Glo Skin Beauty Lash Thickener & Conditioner - Pre-Mascara Conditioning for Eyelashes | Cruelty Free\n",
      "Klorane\n",
      "\n",
      "\n",
      "Products similar to 'Vichy Dermafinish Corrective Full Coverage Concealer Stick, 14 Hour Color Wear, 0.16 Oz.' are ....\n",
      "\n",
      "Vichy Homme Hydra Mag C Body Wash & Hair Shower Gel, 6.76 Fl. Oz.\n",
      "Vichy Pureté Thermale One Step Micellar Cleansing Water\n",
      "Vichy Mineralizing Thermal Water Rich in 15 Minerals, 10.1 Fl. Oz\n",
      "Erno Laszlo Timeless Skin Serum, 1.7 fl. oz.\n",
      "Vichy Dermafinish Liquid Foundation with SPF 30, 4 Shades\n",
      "Erno Laszlo Firmarine Moisturizer SPF 30, 1.7 Fl Oz\n",
      "Sultra The Airlight Hair Dryer, Black\n",
      "Pureology Colour Fanatic Instant Deep-Conditioning Mask\n",
      "Pureology Colour Fanatic Instant Conditioning Whipped Cream\n",
      "Archipelago Marine Hand Crème,3.2 oz\n",
      "\n",
      "\n",
      "Products similar to 'Vichy Idéalia Radiance Boosting Antioxidant Serum, 1.01 Fl. Oz.' are ....\n",
      "\n",
      "Aqualia Thermal Face Serum with Hyaluronic Acid and Mineralizing Thermal Water, 97% Natural Origin\n",
      "Vichy Liftactiv Serum 10 Supreme With Hyaluroic Acid\n",
      "Vichy Aqualia Thermal Rich Cream Moisturizer\n",
      "Vichy Idéalia Night Cream, 1.69 Fl. Oz.\n",
      "Vichy LiftActiv Eyes and Lashes Serum, 0.51 Fl. Oz.\n",
      "Vichy ProEven Daily Dark Spot Serum Corrector, 1.0 Fl. Oz.\n",
      "Vichy LiftActiv Supreme Anti-Wrinkle Night Cream, 1.69 Fl. Oz.\n",
      "Vichy Idéalia Eye Cream with Caffeine, 0.5 Fl. Oz.\n",
      "Vichy Aqualia Thermal Awakening Eye Cream, 0.5 Fl. Oz.\n",
      "Vichy LiftActiv Supreme Anti-Wrinkle Eye Cream, 0.51 Fl. Oz.\n",
      "\n",
      "\n",
      "Products similar to 'Dermablend Quick-Fix Body Makeup Full Coverage Foundation Stick, 0.42 Oz.' are ....\n",
      "\n",
      "Dermablend Smooth Liquid Concealer\n",
      "Dermablend Cover Creme Full Coverage Foundation with SPF 30, 1 Oz\n",
      "Dermablend Intense Powder High Coverage Foundation\n",
      "Dermablend Quick-Fix Full Coverage Concealer, 0.16 Oz.\n",
      "Dermablend Smooth Liquid Foundation with SPF 25, 1 Fl. Oz.\n",
      "Dermablend Loose Setting Powder\n",
      "Dermablend Makeup Setting Spray Set + Refresh for Long Lasting Makeup Wear, 3.4 Fl. Oz.\n",
      "Vita Liberata Trystal Minerals Self Tanning Bronzing Minerals and Kabuki Brush Duo, 0.32 fl. oz.\n",
      "Cargo_HD Picture Perfect Natural Finish Bronzing Blendable Powder\n",
      "La Roche-Posay Respectissime Soft Eyeliner Pencil\n",
      "\n",
      "\n",
      "Products similar to 'Dermablend Smooth Liquid Foundation with SPF 25, 1 Fl. Oz.' are ....\n",
      "\n",
      "Dermablend Smooth Liquid Concealer\n",
      "Dermablend Cover Creme Full Coverage Foundation with SPF 30, 1 Oz\n",
      "Dermablend Quick-Fix Body Makeup Full Coverage Foundation Stick, 0.42 Oz.\n",
      "Dermablend Intense Powder High Coverage Foundation\n",
      "Dermablend Quick-Fix Full Coverage Concealer, 0.16 Oz.\n",
      "Dermablend Loose Setting Powder\n",
      "Dermablend Makeup Setting Spray Set + Refresh for Long Lasting Makeup Wear, 3.4 Fl. Oz.\n",
      "La Roche-Posay Rosaliac CC Cream with SPF 30, 1.7 Fl. Oz.\n",
      "Osmosis Skincare Performance Wear Satin Foundation, Natural Medium\n",
      "La Roche-Posay Effaclar BB Blur with SPF 20, 1.01 Fl. Oz.\n",
      "\n",
      "\n",
      "Products similar to 'Dermablend Smooth Liquid Foundation with SPF 25, 1 Fl. Oz.' are ....\n",
      "\n",
      "Dermablend Smooth Liquid Concealer\n",
      "Dermablend Cover Creme Full Coverage Foundation with SPF 30, 1 Oz\n",
      "Dermablend Quick-Fix Body Makeup Full Coverage Foundation Stick, 0.42 Oz.\n",
      "Dermablend Intense Powder High Coverage Foundation\n",
      "Dermablend Quick-Fix Full Coverage Concealer, 0.16 Oz.\n",
      "Dermablend Loose Setting Powder\n",
      "Dermablend Makeup Setting Spray Set + Refresh for Long Lasting Makeup Wear, 3.4 Fl. Oz.\n",
      "La Roche-Posay Rosaliac CC Cream with SPF 30, 1.7 Fl. Oz.\n",
      "Osmosis Skincare Performance Wear Satin Foundation, Natural Medium\n",
      "La Roche-Posay Effaclar BB Blur with SPF 20, 1.01 Fl. Oz.\n",
      "\n",
      "\n",
      "Products similar to 'Dermablend Smooth Liquid Concealer' are ....\n",
      "\n",
      "Dermablend Quick-Fix Body Makeup Full Coverage Foundation Stick, 0.42 Oz.\n",
      "Dermablend Quick-Fix Full Coverage Concealer, 0.16 Oz.\n",
      "Dermablend Cover Creme Full Coverage Foundation with SPF 30, 1 Oz\n",
      "Dermablend Smooth Liquid Foundation with SPF 25, 1 Fl. Oz.\n",
      "Dermablend Intense Powder High Coverage Foundation\n",
      "Dermablend Loose Setting Powder\n",
      "Cargo_HD Picture Perfect Natural Finish Bronzing Blendable Powder\n",
      "La Roche-Posay Respectissime Soft Eyeliner Pencil\n",
      "Vita Liberata Trystal Minerals Self Tanning Bronzing Minerals and Kabuki Brush Duo, 0.32 fl. oz.\n",
      "Dermablend Makeup Setting Spray Set + Refresh for Long Lasting Makeup Wear, 3.4 Fl. Oz.\n",
      "\n",
      "\n",
      "Products similar to 'Josie By Josie Natori Body Cream, 6.8 oz.' are ....\n",
      "\n",
      "Josie By Josie Natori Body Lotion, 6.75 fl. oz.\n",
      "Josie By Josie Natori Eau de Parfum\n",
      "Josie By Josie Natori Rollerball Fragrance Set\n",
      "3LAB Perfect Body Cream, 6.67 oz\n",
      "AHAVA Clineral Topic Body Skincare Line\n",
      "Elizabeth Arden Green Tea Honey Drops Body Cream, 8.4 oz.\n",
      "La Roche-Posay Lipikar Balm AP+ Intense Repair Body Cream, 13.52 Fl. Oz.\n",
      "Natura Bisse Diamond Body Cream, 9.5 Oz\n",
      "LAFCO House & Home Nourishing Body Cream\n",
      "Etat Libre d'Orange Rien Eau de Parfum Spray\n",
      "\n",
      "\n"
     ]
    }
   ],
   "source": [
    "getRecforUser('A1SLHI58I09T1K')"
   ]
  }
 ],
 "metadata": {
  "kernelspec": {
   "display_name": "Python 3",
   "language": "python",
   "name": "python3"
  },
  "language_info": {
   "codemirror_mode": {
    "name": "ipython",
    "version": 3
   },
   "file_extension": ".py",
   "mimetype": "text/x-python",
   "name": "python",
   "nbconvert_exporter": "python",
   "pygments_lexer": "ipython3",
   "version": "3.8.3"
  }
 },
 "nbformat": 4,
 "nbformat_minor": 4
}
